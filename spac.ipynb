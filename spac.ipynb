{
 "cells": [
  {
   "cell_type": "code",
   "execution_count": 1,
   "metadata": {},
   "outputs": [],
   "source": [
    "import pandas as pd\n",
    "import numpy as np\n",
    "import nltk\n",
    "import spacy\n",
    "from tqdm import tqdm\n",
    "tqdm.pandas()\n",
    "import gensim"
   ]
  },
  {
   "cell_type": "code",
   "execution_count": 2,
   "metadata": {},
   "outputs": [],
   "source": [
    "df = pd.read_csv('train.csv')"
   ]
  },
  {
   "cell_type": "code",
   "execution_count": 3,
   "metadata": {},
   "outputs": [],
   "source": [
    "import spacy\n",
    "nlp = spacy.load('en_core_web_lg')"
   ]
  },
  {
   "cell_type": "code",
   "execution_count": 4,
   "metadata": {},
   "outputs": [],
   "source": [
    "def keep_token(t):\n",
    "    return (t.is_alpha and \n",
    "            not (t.is_space or t.is_punct or \n",
    "                 t.is_stop or t.like_num))\n",
    "\n",
    "def lemmatize_doc(doc):\n",
    "    return [ t.lemma_ for t in doc if keep_token(t)]\n",
    "\n",
    "# docs = [lemmatize_doc(nlp(doc)) for doc in news_train.data]"
   ]
  },
  {
   "cell_type": "code",
   "execution_count": 5,
   "metadata": {},
   "outputs": [
    {
     "name": "stderr",
     "output_type": "stream",
     "text": [
      " 17%|█▋        | 226739/1306122 [01:25<09:03, 1987.48it/s]"
     ]
    },
    {
     "ename": "KeyboardInterrupt",
     "evalue": "",
     "output_type": "error",
     "traceback": [
      "\u001b[0;31m---------------------------------------------------------------------------\u001b[0m",
      "\u001b[0;31mKeyboardInterrupt\u001b[0m                         Traceback (most recent call last)",
      "\u001b[0;32m<ipython-input-5-f8c957b431a5>\u001b[0m in \u001b[0;36m<module>\u001b[0;34m\u001b[0m\n\u001b[0;32m----> 1\u001b[0;31m \u001b[0mdf\u001b[0m\u001b[0;34m[\u001b[0m\u001b[0;34m'tokens'\u001b[0m\u001b[0;34m]\u001b[0m \u001b[0;34m=\u001b[0m \u001b[0mdf\u001b[0m\u001b[0;34m.\u001b[0m\u001b[0mquestion_text\u001b[0m\u001b[0;34m.\u001b[0m\u001b[0mprogress_apply\u001b[0m\u001b[0;34m(\u001b[0m\u001b[0;32mlambda\u001b[0m \u001b[0mx\u001b[0m\u001b[0;34m:\u001b[0m \u001b[0mnlp\u001b[0m\u001b[0;34m.\u001b[0m\u001b[0mtokenizer\u001b[0m\u001b[0;34m(\u001b[0m\u001b[0mx\u001b[0m\u001b[0;34m)\u001b[0m\u001b[0;34m)\u001b[0m\u001b[0;34m\u001b[0m\u001b[0;34m\u001b[0m\u001b[0m\n\u001b[0m",
      "\u001b[0;32m~/.pyenv/versions/anaconda3-2019.03/lib/python3.7/site-packages/tqdm/_tqdm.py\u001b[0m in \u001b[0;36minner\u001b[0;34m(df, func, *args, **kwargs)\u001b[0m\n\u001b[1;32m    677\u001b[0m                 \u001b[0;31m# Apply the provided function (in **kwargs)\u001b[0m\u001b[0;34m\u001b[0m\u001b[0;34m\u001b[0m\u001b[0;34m\u001b[0m\u001b[0m\n\u001b[1;32m    678\u001b[0m                 \u001b[0;31m# on the df using our wrapper (which provides bar updating)\u001b[0m\u001b[0;34m\u001b[0m\u001b[0;34m\u001b[0m\u001b[0;34m\u001b[0m\u001b[0m\n\u001b[0;32m--> 679\u001b[0;31m                 \u001b[0mresult\u001b[0m \u001b[0;34m=\u001b[0m \u001b[0mgetattr\u001b[0m\u001b[0;34m(\u001b[0m\u001b[0mdf\u001b[0m\u001b[0;34m,\u001b[0m \u001b[0mdf_function\u001b[0m\u001b[0;34m)\u001b[0m\u001b[0;34m(\u001b[0m\u001b[0mwrapper\u001b[0m\u001b[0;34m,\u001b[0m \u001b[0;34m**\u001b[0m\u001b[0mkwargs\u001b[0m\u001b[0;34m)\u001b[0m\u001b[0;34m\u001b[0m\u001b[0;34m\u001b[0m\u001b[0m\n\u001b[0m\u001b[1;32m    680\u001b[0m \u001b[0;34m\u001b[0m\u001b[0m\n\u001b[1;32m    681\u001b[0m                 \u001b[0;31m# Close bar and return pandas calculation result\u001b[0m\u001b[0;34m\u001b[0m\u001b[0;34m\u001b[0m\u001b[0;34m\u001b[0m\u001b[0m\n",
      "\u001b[0;32m~/.pyenv/versions/anaconda3-2019.03/lib/python3.7/site-packages/pandas/core/series.py\u001b[0m in \u001b[0;36mapply\u001b[0;34m(self, func, convert_dtype, args, **kwds)\u001b[0m\n\u001b[1;32m   3589\u001b[0m             \u001b[0;32melse\u001b[0m\u001b[0;34m:\u001b[0m\u001b[0;34m\u001b[0m\u001b[0;34m\u001b[0m\u001b[0m\n\u001b[1;32m   3590\u001b[0m                 \u001b[0mvalues\u001b[0m \u001b[0;34m=\u001b[0m \u001b[0mself\u001b[0m\u001b[0;34m.\u001b[0m\u001b[0mastype\u001b[0m\u001b[0;34m(\u001b[0m\u001b[0mobject\u001b[0m\u001b[0;34m)\u001b[0m\u001b[0;34m.\u001b[0m\u001b[0mvalues\u001b[0m\u001b[0;34m\u001b[0m\u001b[0;34m\u001b[0m\u001b[0m\n\u001b[0;32m-> 3591\u001b[0;31m                 \u001b[0mmapped\u001b[0m \u001b[0;34m=\u001b[0m \u001b[0mlib\u001b[0m\u001b[0;34m.\u001b[0m\u001b[0mmap_infer\u001b[0m\u001b[0;34m(\u001b[0m\u001b[0mvalues\u001b[0m\u001b[0;34m,\u001b[0m \u001b[0mf\u001b[0m\u001b[0;34m,\u001b[0m \u001b[0mconvert\u001b[0m\u001b[0;34m=\u001b[0m\u001b[0mconvert_dtype\u001b[0m\u001b[0;34m)\u001b[0m\u001b[0;34m\u001b[0m\u001b[0;34m\u001b[0m\u001b[0m\n\u001b[0m\u001b[1;32m   3592\u001b[0m \u001b[0;34m\u001b[0m\u001b[0m\n\u001b[1;32m   3593\u001b[0m         \u001b[0;32mif\u001b[0m \u001b[0mlen\u001b[0m\u001b[0;34m(\u001b[0m\u001b[0mmapped\u001b[0m\u001b[0;34m)\u001b[0m \u001b[0;32mand\u001b[0m \u001b[0misinstance\u001b[0m\u001b[0;34m(\u001b[0m\u001b[0mmapped\u001b[0m\u001b[0;34m[\u001b[0m\u001b[0;36m0\u001b[0m\u001b[0;34m]\u001b[0m\u001b[0;34m,\u001b[0m \u001b[0mSeries\u001b[0m\u001b[0;34m)\u001b[0m\u001b[0;34m:\u001b[0m\u001b[0;34m\u001b[0m\u001b[0;34m\u001b[0m\u001b[0m\n",
      "\u001b[0;32mpandas/_libs/lib.pyx\u001b[0m in \u001b[0;36mpandas._libs.lib.map_infer\u001b[0;34m()\u001b[0m\n",
      "\u001b[0;32m~/.pyenv/versions/anaconda3-2019.03/lib/python3.7/site-packages/tqdm/_tqdm.py\u001b[0m in \u001b[0;36mwrapper\u001b[0;34m(*args, **kwargs)\u001b[0m\n\u001b[1;32m    673\u001b[0m                     \u001b[0;31m# take a fast or slow code path; so stop when t.total==t.n\u001b[0m\u001b[0;34m\u001b[0m\u001b[0;34m\u001b[0m\u001b[0;34m\u001b[0m\u001b[0m\n\u001b[1;32m    674\u001b[0m                     \u001b[0mt\u001b[0m\u001b[0;34m.\u001b[0m\u001b[0mupdate\u001b[0m\u001b[0;34m(\u001b[0m\u001b[0mn\u001b[0m\u001b[0;34m=\u001b[0m\u001b[0;36m1\u001b[0m \u001b[0;32mif\u001b[0m \u001b[0;32mnot\u001b[0m \u001b[0mt\u001b[0m\u001b[0;34m.\u001b[0m\u001b[0mtotal\u001b[0m \u001b[0;32mor\u001b[0m \u001b[0mt\u001b[0m\u001b[0;34m.\u001b[0m\u001b[0mn\u001b[0m \u001b[0;34m<\u001b[0m \u001b[0mt\u001b[0m\u001b[0;34m.\u001b[0m\u001b[0mtotal\u001b[0m \u001b[0;32melse\u001b[0m \u001b[0;36m0\u001b[0m\u001b[0;34m)\u001b[0m\u001b[0;34m\u001b[0m\u001b[0;34m\u001b[0m\u001b[0m\n\u001b[0;32m--> 675\u001b[0;31m                     \u001b[0;32mreturn\u001b[0m \u001b[0mfunc\u001b[0m\u001b[0;34m(\u001b[0m\u001b[0;34m*\u001b[0m\u001b[0margs\u001b[0m\u001b[0;34m,\u001b[0m \u001b[0;34m**\u001b[0m\u001b[0mkwargs\u001b[0m\u001b[0;34m)\u001b[0m\u001b[0;34m\u001b[0m\u001b[0;34m\u001b[0m\u001b[0m\n\u001b[0m\u001b[1;32m    676\u001b[0m \u001b[0;34m\u001b[0m\u001b[0m\n\u001b[1;32m    677\u001b[0m                 \u001b[0;31m# Apply the provided function (in **kwargs)\u001b[0m\u001b[0;34m\u001b[0m\u001b[0;34m\u001b[0m\u001b[0;34m\u001b[0m\u001b[0m\n",
      "\u001b[0;32m<ipython-input-5-f8c957b431a5>\u001b[0m in \u001b[0;36m<lambda>\u001b[0;34m(x)\u001b[0m\n\u001b[0;32m----> 1\u001b[0;31m \u001b[0mdf\u001b[0m\u001b[0;34m[\u001b[0m\u001b[0;34m'tokens'\u001b[0m\u001b[0;34m]\u001b[0m \u001b[0;34m=\u001b[0m \u001b[0mdf\u001b[0m\u001b[0;34m.\u001b[0m\u001b[0mquestion_text\u001b[0m\u001b[0;34m.\u001b[0m\u001b[0mprogress_apply\u001b[0m\u001b[0;34m(\u001b[0m\u001b[0;32mlambda\u001b[0m \u001b[0mx\u001b[0m\u001b[0;34m:\u001b[0m \u001b[0mnlp\u001b[0m\u001b[0;34m.\u001b[0m\u001b[0mtokenizer\u001b[0m\u001b[0;34m(\u001b[0m\u001b[0mx\u001b[0m\u001b[0;34m)\u001b[0m\u001b[0;34m)\u001b[0m\u001b[0;34m\u001b[0m\u001b[0;34m\u001b[0m\u001b[0m\n\u001b[0m",
      "\u001b[0;32mtokenizer.pyx\u001b[0m in \u001b[0;36mspacy.tokenizer.Tokenizer.__call__\u001b[0;34m()\u001b[0m\n",
      "\u001b[0;32mdoc.pyx\u001b[0m in \u001b[0;36mspacy.tokens.doc.Doc.__init__\u001b[0;34m()\u001b[0m\n",
      "\u001b[0;32mdoc.pyx\u001b[0m in \u001b[0;36mspacy.tokens.doc._get_chunker\u001b[0;34m()\u001b[0m\n",
      "\u001b[0;32m~/.pyenv/versions/anaconda3-2019.03/lib/python3.7/site-packages/spacy/util.py\u001b[0m in \u001b[0;36mget_lang_class\u001b[0;34m(lang)\u001b[0m\n\u001b[1;32m     62\u001b[0m     \u001b[0;32mglobal\u001b[0m \u001b[0mLANGUAGES\u001b[0m\u001b[0;34m\u001b[0m\u001b[0;34m\u001b[0m\u001b[0m\n\u001b[1;32m     63\u001b[0m     \u001b[0;31m# Check if an entry point is exposed for the language code\u001b[0m\u001b[0;34m\u001b[0m\u001b[0;34m\u001b[0m\u001b[0;34m\u001b[0m\u001b[0m\n\u001b[0;32m---> 64\u001b[0;31m     \u001b[0mentry_point\u001b[0m \u001b[0;34m=\u001b[0m \u001b[0mget_entry_point\u001b[0m\u001b[0;34m(\u001b[0m\u001b[0;34m\"spacy_languages\"\u001b[0m\u001b[0;34m,\u001b[0m \u001b[0mlang\u001b[0m\u001b[0;34m)\u001b[0m\u001b[0;34m\u001b[0m\u001b[0;34m\u001b[0m\u001b[0m\n\u001b[0m\u001b[1;32m     65\u001b[0m     \u001b[0;32mif\u001b[0m \u001b[0mentry_point\u001b[0m \u001b[0;32mis\u001b[0m \u001b[0;32mnot\u001b[0m \u001b[0;32mNone\u001b[0m\u001b[0;34m:\u001b[0m\u001b[0;34m\u001b[0m\u001b[0;34m\u001b[0m\u001b[0m\n\u001b[1;32m     66\u001b[0m         \u001b[0mLANGUAGES\u001b[0m\u001b[0;34m[\u001b[0m\u001b[0mlang\u001b[0m\u001b[0;34m]\u001b[0m \u001b[0;34m=\u001b[0m \u001b[0mentry_point\u001b[0m\u001b[0;34m\u001b[0m\u001b[0;34m\u001b[0m\u001b[0m\n",
      "\u001b[0;32m~/.pyenv/versions/anaconda3-2019.03/lib/python3.7/site-packages/spacy/util.py\u001b[0m in \u001b[0;36mget_entry_point\u001b[0;34m(key, value)\u001b[0m\n\u001b[1;32m    264\u001b[0m     \u001b[0mRETURNS\u001b[0m\u001b[0;34m:\u001b[0m \u001b[0mThe\u001b[0m \u001b[0mloaded\u001b[0m \u001b[0mentry\u001b[0m \u001b[0mpoint\u001b[0m \u001b[0;32mor\u001b[0m \u001b[0;32mNone\u001b[0m\u001b[0;34m.\u001b[0m\u001b[0;34m\u001b[0m\u001b[0;34m\u001b[0m\u001b[0m\n\u001b[1;32m    265\u001b[0m     \"\"\"\n\u001b[0;32m--> 266\u001b[0;31m     \u001b[0;32mfor\u001b[0m \u001b[0mentry_point\u001b[0m \u001b[0;32min\u001b[0m \u001b[0mpkg_resources\u001b[0m\u001b[0;34m.\u001b[0m\u001b[0miter_entry_points\u001b[0m\u001b[0;34m(\u001b[0m\u001b[0mkey\u001b[0m\u001b[0;34m)\u001b[0m\u001b[0;34m:\u001b[0m\u001b[0;34m\u001b[0m\u001b[0;34m\u001b[0m\u001b[0m\n\u001b[0m\u001b[1;32m    267\u001b[0m         \u001b[0;32mif\u001b[0m \u001b[0mentry_point\u001b[0m\u001b[0;34m.\u001b[0m\u001b[0mname\u001b[0m \u001b[0;34m==\u001b[0m \u001b[0mvalue\u001b[0m\u001b[0;34m:\u001b[0m\u001b[0;34m\u001b[0m\u001b[0;34m\u001b[0m\u001b[0m\n\u001b[1;32m    268\u001b[0m             \u001b[0;32mreturn\u001b[0m \u001b[0mentry_point\u001b[0m\u001b[0;34m.\u001b[0m\u001b[0mload\u001b[0m\u001b[0;34m(\u001b[0m\u001b[0;34m)\u001b[0m\u001b[0;34m\u001b[0m\u001b[0;34m\u001b[0m\u001b[0m\n",
      "\u001b[0;32m~/.pyenv/versions/anaconda3-2019.03/lib/python3.7/site-packages/pkg_resources/__init__.py\u001b[0m in \u001b[0;36m<genexpr>\u001b[0;34m(.0)\u001b[0m\n\u001b[1;32m    654\u001b[0m             \u001b[0mentry\u001b[0m\u001b[0;34m\u001b[0m\u001b[0;34m\u001b[0m\u001b[0m\n\u001b[1;32m    655\u001b[0m             \u001b[0;32mfor\u001b[0m \u001b[0mdist\u001b[0m \u001b[0;32min\u001b[0m \u001b[0mself\u001b[0m\u001b[0;34m\u001b[0m\u001b[0;34m\u001b[0m\u001b[0m\n\u001b[0;32m--> 656\u001b[0;31m             \u001b[0;32mfor\u001b[0m \u001b[0mentry\u001b[0m \u001b[0;32min\u001b[0m \u001b[0mdist\u001b[0m\u001b[0;34m.\u001b[0m\u001b[0mget_entry_map\u001b[0m\u001b[0;34m(\u001b[0m\u001b[0mgroup\u001b[0m\u001b[0;34m)\u001b[0m\u001b[0;34m.\u001b[0m\u001b[0mvalues\u001b[0m\u001b[0;34m(\u001b[0m\u001b[0;34m)\u001b[0m\u001b[0;34m\u001b[0m\u001b[0;34m\u001b[0m\u001b[0m\n\u001b[0m\u001b[1;32m    657\u001b[0m             \u001b[0;32mif\u001b[0m \u001b[0mname\u001b[0m \u001b[0;32mis\u001b[0m \u001b[0;32mNone\u001b[0m \u001b[0;32mor\u001b[0m \u001b[0mname\u001b[0m \u001b[0;34m==\u001b[0m \u001b[0mentry\u001b[0m\u001b[0;34m.\u001b[0m\u001b[0mname\u001b[0m\u001b[0;34m\u001b[0m\u001b[0;34m\u001b[0m\u001b[0m\n\u001b[1;32m    658\u001b[0m         )\n",
      "\u001b[0;32m~/.pyenv/versions/anaconda3-2019.03/lib/python3.7/site-packages/pkg_resources/__init__.py\u001b[0m in \u001b[0;36mget_entry_map\u001b[0;34m(self, group)\u001b[0m\n\u001b[1;32m   2846\u001b[0m         \u001b[0;34m\"\"\"Return the entry point map for `group`, or the full entry map\"\"\"\u001b[0m\u001b[0;34m\u001b[0m\u001b[0;34m\u001b[0m\u001b[0m\n\u001b[1;32m   2847\u001b[0m         \u001b[0;32mtry\u001b[0m\u001b[0;34m:\u001b[0m\u001b[0;34m\u001b[0m\u001b[0;34m\u001b[0m\u001b[0m\n\u001b[0;32m-> 2848\u001b[0;31m             \u001b[0mep_map\u001b[0m \u001b[0;34m=\u001b[0m \u001b[0mself\u001b[0m\u001b[0;34m.\u001b[0m\u001b[0m_ep_map\u001b[0m\u001b[0;34m\u001b[0m\u001b[0;34m\u001b[0m\u001b[0m\n\u001b[0m\u001b[1;32m   2849\u001b[0m         \u001b[0;32mexcept\u001b[0m \u001b[0mAttributeError\u001b[0m\u001b[0;34m:\u001b[0m\u001b[0;34m\u001b[0m\u001b[0;34m\u001b[0m\u001b[0m\n\u001b[1;32m   2850\u001b[0m             ep_map = self._ep_map = EntryPoint.parse_map(\n",
      "\u001b[0;31mKeyboardInterrupt\u001b[0m: "
     ]
    }
   ],
   "source": [
    "df['tokens'] = df.question_text.progress_apply(lambda x: nlp.tokenizer(x))"
   ]
  },
  {
   "cell_type": "code",
   "execution_count": null,
   "metadata": {},
   "outputs": [],
   "source": [
    "df.head()"
   ]
  },
  {
   "cell_type": "code",
   "execution_count": null,
   "metadata": {},
   "outputs": [],
   "source": [
    "df['lemma'] = df.tokens.progress_apply(lambda x: lemmatize_doc(x))"
   ]
  },
  {
   "cell_type": "code",
   "execution_count": 7,
   "metadata": {},
   "outputs": [
    {
     "data": {
      "text/html": [
       "<div>\n",
       "<style scoped>\n",
       "    .dataframe tbody tr th:only-of-type {\n",
       "        vertical-align: middle;\n",
       "    }\n",
       "\n",
       "    .dataframe tbody tr th {\n",
       "        vertical-align: top;\n",
       "    }\n",
       "\n",
       "    .dataframe thead th {\n",
       "        text-align: right;\n",
       "    }\n",
       "</style>\n",
       "<table border=\"1\" class=\"dataframe\">\n",
       "  <thead>\n",
       "    <tr style=\"text-align: right;\">\n",
       "      <th></th>\n",
       "      <th>qid</th>\n",
       "      <th>question_text</th>\n",
       "      <th>target</th>\n",
       "      <th>tokens</th>\n",
       "      <th>lemma</th>\n",
       "    </tr>\n",
       "  </thead>\n",
       "  <tbody>\n",
       "    <tr>\n",
       "      <th>0</th>\n",
       "      <td>00002165364db923c7e6</td>\n",
       "      <td>How did Quebec nationalists see their province...</td>\n",
       "      <td>0</td>\n",
       "      <td>(How, did, Quebec, nationalists, see, their, p...</td>\n",
       "      <td>[Quebec, nationalist, province, nation]</td>\n",
       "    </tr>\n",
       "    <tr>\n",
       "      <th>1</th>\n",
       "      <td>000032939017120e6e44</td>\n",
       "      <td>Do you have an adopted dog, how would you enco...</td>\n",
       "      <td>0</td>\n",
       "      <td>(Do, you, have, an, adopted, dog, ,, how, woul...</td>\n",
       "      <td>[adopt, dog, encourage, people, adopt, shop]</td>\n",
       "    </tr>\n",
       "    <tr>\n",
       "      <th>2</th>\n",
       "      <td>0000412ca6e4628ce2cf</td>\n",
       "      <td>Why does velocity affect time? Does velocity a...</td>\n",
       "      <td>0</td>\n",
       "      <td>(Why, does, velocity, affect, time, ?, Does, v...</td>\n",
       "      <td>[velocity, affect, time, velocity, affect, spa...</td>\n",
       "    </tr>\n",
       "    <tr>\n",
       "      <th>3</th>\n",
       "      <td>000042bf85aa498cd78e</td>\n",
       "      <td>How did Otto von Guericke used the Magdeburg h...</td>\n",
       "      <td>0</td>\n",
       "      <td>(How, did, Otto, von, Guericke, used, the, Mag...</td>\n",
       "      <td>[Otto, von, Guericke, Magdeburg, hemisphere]</td>\n",
       "    </tr>\n",
       "    <tr>\n",
       "      <th>4</th>\n",
       "      <td>0000455dfa3e01eae3af</td>\n",
       "      <td>Can I convert montra helicon D to a mountain b...</td>\n",
       "      <td>0</td>\n",
       "      <td>(Can, I, convert, montra, helicon, D, to, a, m...</td>\n",
       "      <td>[convert, montra, helicon, D, mountain, bike, ...</td>\n",
       "    </tr>\n",
       "  </tbody>\n",
       "</table>\n",
       "</div>"
      ],
      "text/plain": [
       "                    qid                                      question_text  \\\n",
       "0  00002165364db923c7e6  How did Quebec nationalists see their province...   \n",
       "1  000032939017120e6e44  Do you have an adopted dog, how would you enco...   \n",
       "2  0000412ca6e4628ce2cf  Why does velocity affect time? Does velocity a...   \n",
       "3  000042bf85aa498cd78e  How did Otto von Guericke used the Magdeburg h...   \n",
       "4  0000455dfa3e01eae3af  Can I convert montra helicon D to a mountain b...   \n",
       "\n",
       "   target                                             tokens  \\\n",
       "0       0  (How, did, Quebec, nationalists, see, their, p...   \n",
       "1       0  (Do, you, have, an, adopted, dog, ,, how, woul...   \n",
       "2       0  (Why, does, velocity, affect, time, ?, Does, v...   \n",
       "3       0  (How, did, Otto, von, Guericke, used, the, Mag...   \n",
       "4       0  (Can, I, convert, montra, helicon, D, to, a, m...   \n",
       "\n",
       "                                               lemma  \n",
       "0            [Quebec, nationalist, province, nation]  \n",
       "1       [adopt, dog, encourage, people, adopt, shop]  \n",
       "2  [velocity, affect, time, velocity, affect, spa...  \n",
       "3       [Otto, von, Guericke, Magdeburg, hemisphere]  \n",
       "4  [convert, montra, helicon, D, mountain, bike, ...  "
      ]
     },
     "execution_count": 7,
     "metadata": {},
     "output_type": "execute_result"
    }
   ],
   "source": [
    "df.head()"
   ]
  },
  {
   "cell_type": "code",
   "execution_count": 8,
   "metadata": {},
   "outputs": [],
   "source": [
    "# df.to_pickle('spacy_frame.pkl')"
   ]
  },
  {
   "cell_type": "code",
   "execution_count": 9,
   "metadata": {},
   "outputs": [],
   "source": [
    "from gensim.models import Phrases"
   ]
  },
  {
   "cell_type": "code",
   "execution_count": 10,
   "metadata": {},
   "outputs": [],
   "source": [
    "from gensim.corpora import Dictionary\n",
    "from gensim.models.tfidfmodel import TfidfModel\n",
    "from gensim.matutils import sparse2full\n",
    "\n",
    "docs_dict = Dictionary(df.lemma)\n",
    "docs_dict.filter_extremes(no_below=10000, no_above=0.2)\n",
    "docs_dict.compactify()"
   ]
  },
  {
   "cell_type": "code",
   "execution_count": 11,
   "metadata": {},
   "outputs": [],
   "source": [
    "docs_corpus = [docs_dict.doc2bow(doc) for doc in df.lemma]"
   ]
  },
  {
   "cell_type": "code",
   "execution_count": null,
   "metadata": {},
   "outputs": [],
   "source": [
    "#LDAAAAAA\n",
    "from gensim.models import LdaMulticore"
   ]
  },
  {
   "cell_type": "code",
   "execution_count": null,
   "metadata": {},
   "outputs": [],
   "source": [
    "troll_df = df[df.target==1]"
   ]
  },
  {
   "cell_type": "code",
   "execution_count": null,
   "metadata": {},
   "outputs": [],
   "source": [
    "troll_df.head()"
   ]
  },
  {
   "cell_type": "code",
   "execution_count": 21,
   "metadata": {},
   "outputs": [],
   "source": [
    "troll_dict = Dictionary(troll_df.lemma)\n",
    "troll_dict.filter_extremes(no_below=20, no_above=0.2)\n",
    "troll_dict.compactify()\n",
    "troll_corpus = [troll_dict.doc2bow(doc) for doc in troll_df.lemma]"
   ]
  },
  {
   "cell_type": "code",
   "execution_count": 28,
   "metadata": {},
   "outputs": [],
   "source": [
    "ldamodel = LdaMulticore(troll_corpus, id2word=troll_dict, num_topics=3)"
   ]
  },
  {
   "cell_type": "code",
   "execution_count": 29,
   "metadata": {},
   "outputs": [
    {
     "data": {
      "text/plain": [
       "[(0,\n",
       "  '0.025*\"Muslim\" + 0.021*\"woman\" + 0.021*\"Trump\" + 0.014*\"man\" + 0.012*\"Indian\" + 0.012*\"people\" + 0.010*\"country\" + 0.009*\"India\" + 0.009*\"Quora\" + 0.008*\"like\"'),\n",
       " (1,\n",
       "  '0.030*\"people\" + 0.014*\"sex\" + 0.010*\"like\" + 0.010*\"girl\" + 0.008*\"old\" + 0.008*\"Quora\" + 0.007*\"know\" + 0.007*\"want\" + 0.007*\"think\" + 0.006*\"year\"'),\n",
       " (2,\n",
       "  '0.027*\"people\" + 0.016*\"American\" + 0.013*\"like\" + 0.013*\"woman\" + 0.013*\"Indian\" + 0.012*\"white\" + 0.011*\"liberal\" + 0.010*\"black\" + 0.008*\"think\" + 0.008*\"man\"')]"
      ]
     },
     "execution_count": 29,
     "metadata": {},
     "output_type": "execute_result"
    }
   ],
   "source": [
    "ldamodel.show_topics()"
   ]
  },
  {
   "cell_type": "code",
   "execution_count": 30,
   "metadata": {},
   "outputs": [],
   "source": [
    "import pyLDAvis.gensim\n",
    "pyLDAvis.enable_notebook()"
   ]
  },
  {
   "cell_type": "code",
   "execution_count": 31,
   "metadata": {},
   "outputs": [
    {
     "name": "stderr",
     "output_type": "stream",
     "text": [
      "/Users/matt/.pyenv/versions/anaconda3-2019.03/lib/python3.7/site-packages/pyLDAvis/_prepare.py:257: FutureWarning: Sorting because non-concatenation axis is not aligned. A future version\n",
      "of pandas will change to not sort by default.\n",
      "\n",
      "To accept the future behavior, pass 'sort=False'.\n",
      "\n",
      "To retain the current behavior and silence the warning, pass 'sort=True'.\n",
      "\n",
      "  return pd.concat([default_term_info] + list(topic_dfs))\n"
     ]
    }
   ],
   "source": [
    "troll_lda = pyLDAvis.gensim.prepare(ldamodel, troll_corpus, troll_dict)"
   ]
  },
  {
   "cell_type": "code",
   "execution_count": 32,
   "metadata": {},
   "outputs": [
    {
     "data": {
      "text/html": [
       "\n",
       "<link rel=\"stylesheet\" type=\"text/css\" href=\"https://cdn.rawgit.com/bmabey/pyLDAvis/files/ldavis.v1.0.0.css\">\n",
       "\n",
       "\n",
       "<div id=\"ldavis_el93650188032005535738651\"></div>\n",
       "<script type=\"text/javascript\">\n",
       "\n",
       "var ldavis_el93650188032005535738651_data = {\"mdsDat\": {\"x\": [0.09773911637208837, 0.01825834580894162, -0.11599746218103009], \"y\": [0.062201815496961486, -0.09902590750566234, 0.03682409200870084], \"topics\": [1, 2, 3], \"cluster\": [1, 1, 1], \"Freq\": [35.904056549072266, 35.54124069213867, 28.55470848083496]}, \"tinfo\": {\"Category\": [\"Default\", \"Default\", \"Default\", \"Default\", \"Default\", \"Default\", \"Default\", \"Default\", \"Default\", \"Default\", \"Default\", \"Default\", \"Default\", \"Default\", \"Default\", \"Default\", \"Default\", \"Default\", \"Default\", \"Default\", \"Default\", \"Default\", \"Default\", \"Default\", \"Default\", \"Default\", \"Default\", \"Default\", \"Default\", \"Default\", \"Topic1\", \"Topic1\", \"Topic1\", \"Topic1\", \"Topic1\", \"Topic1\", \"Topic1\", \"Topic1\", \"Topic1\", \"Topic1\", \"Topic1\", \"Topic1\", \"Topic1\", \"Topic1\", \"Topic1\", \"Topic1\", \"Topic1\", \"Topic1\", \"Topic1\", \"Topic1\", \"Topic1\", \"Topic1\", \"Topic1\", \"Topic1\", \"Topic1\", \"Topic1\", \"Topic1\", \"Topic1\", \"Topic1\", \"Topic1\", \"Topic1\", \"Topic1\", \"Topic1\", \"Topic1\", \"Topic1\", \"Topic1\", \"Topic1\", \"Topic1\", \"Topic1\", \"Topic1\", \"Topic1\", \"Topic1\", \"Topic1\", \"Topic1\", \"Topic1\", \"Topic1\", \"Topic1\", \"Topic1\", \"Topic1\", \"Topic1\", \"Topic1\", \"Topic1\", \"Topic1\", \"Topic1\", \"Topic1\", \"Topic1\", \"Topic1\", \"Topic1\", \"Topic1\", \"Topic1\", \"Topic1\", \"Topic1\", \"Topic1\", \"Topic1\", \"Topic1\", \"Topic1\", \"Topic1\", \"Topic1\", \"Topic1\", \"Topic1\", \"Topic1\", \"Topic1\", \"Topic1\", \"Topic1\", \"Topic1\", \"Topic1\", \"Topic1\", \"Topic1\", \"Topic1\", \"Topic1\", \"Topic1\", \"Topic1\", \"Topic1\", \"Topic1\", \"Topic1\", \"Topic1\", \"Topic1\", \"Topic1\", \"Topic2\", \"Topic2\", \"Topic2\", \"Topic2\", \"Topic2\", \"Topic2\", \"Topic2\", \"Topic2\", \"Topic2\", \"Topic2\", \"Topic2\", \"Topic2\", \"Topic2\", \"Topic2\", \"Topic2\", \"Topic2\", \"Topic2\", \"Topic2\", \"Topic2\", \"Topic2\", \"Topic2\", \"Topic2\", \"Topic2\", \"Topic2\", \"Topic2\", \"Topic2\", \"Topic2\", \"Topic2\", \"Topic2\", \"Topic2\", \"Topic2\", \"Topic2\", \"Topic2\", \"Topic2\", \"Topic2\", \"Topic2\", \"Topic2\", \"Topic2\", \"Topic2\", \"Topic2\", \"Topic2\", \"Topic2\", \"Topic2\", \"Topic2\", \"Topic2\", \"Topic2\", \"Topic2\", \"Topic2\", \"Topic2\", \"Topic2\", \"Topic2\", \"Topic2\", \"Topic2\", \"Topic2\", \"Topic2\", \"Topic2\", \"Topic2\", \"Topic2\", \"Topic2\", \"Topic2\", \"Topic2\", \"Topic2\", \"Topic2\", \"Topic2\", \"Topic2\", \"Topic2\", \"Topic2\", \"Topic2\", \"Topic2\", \"Topic2\", \"Topic2\", \"Topic2\", \"Topic2\", \"Topic2\", \"Topic2\", \"Topic2\", \"Topic2\", \"Topic2\", \"Topic2\", \"Topic2\", \"Topic2\", \"Topic2\", \"Topic2\", \"Topic2\", \"Topic2\", \"Topic2\", \"Topic2\", \"Topic2\", \"Topic2\", \"Topic2\", \"Topic2\", \"Topic2\", \"Topic2\", \"Topic2\", \"Topic3\", \"Topic3\", \"Topic3\", \"Topic3\", \"Topic3\", \"Topic3\", \"Topic3\", \"Topic3\", \"Topic3\", \"Topic3\", \"Topic3\", \"Topic3\", \"Topic3\", \"Topic3\", \"Topic3\", \"Topic3\", \"Topic3\", \"Topic3\", \"Topic3\", \"Topic3\", \"Topic3\", \"Topic3\", \"Topic3\", \"Topic3\", \"Topic3\", \"Topic3\", \"Topic3\", \"Topic3\", \"Topic3\", \"Topic3\", \"Topic3\", \"Topic3\", \"Topic3\", \"Topic3\", \"Topic3\", \"Topic3\", \"Topic3\", \"Topic3\", \"Topic3\", \"Topic3\", \"Topic3\", \"Topic3\", \"Topic3\", \"Topic3\", \"Topic3\", \"Topic3\", \"Topic3\", \"Topic3\", \"Topic3\", \"Topic3\", \"Topic3\", \"Topic3\", \"Topic3\", \"Topic3\", \"Topic3\", \"Topic3\", \"Topic3\", \"Topic3\", \"Topic3\", \"Topic3\", \"Topic3\", \"Topic3\", \"Topic3\", \"Topic3\", \"Topic3\", \"Topic3\", \"Topic3\", \"Topic3\", \"Topic3\", \"Topic3\", \"Topic3\", \"Topic3\", \"Topic3\", \"Topic3\", \"Topic3\", \"Topic3\", \"Topic3\", \"Topic3\", \"Topic3\", \"Topic3\", \"Topic3\", \"Topic3\", \"Topic3\", \"Topic3\", \"Topic3\", \"Topic3\", \"Topic3\", \"Topic3\", \"Topic3\", \"Topic3\", \"Topic3\", \"Topic3\", \"Topic3\"], \"Freq\": [5410.0, 2562.0, 6950.0, 12672.0, 1531.0, 6233.0, 2581.0, 1609.0, 1477.0, 1320.0, 1661.0, 4766.0, 3215.0, 1066.0, 658.0, 656.0, 2079.0, 843.0, 3377.0, 786.0, 3018.0, 1018.0, 2088.0, 875.0, 3686.0, 1042.0, 1246.0, 886.0, 549.0, 562.0, 63.64170837402344, 100.17707824707031, 44.57352066040039, 127.58766174316406, 50.708457946777344, 48.64530563354492, 50.657352447509766, 43.20423126220703, 38.97965621948242, 93.36927795410156, 44.66820526123047, 36.49189376831055, 32.432403564453125, 35.783348083496094, 49.26043701171875, 38.54087448120117, 53.146488189697266, 57.113502502441406, 29.17460060119629, 35.17593765258789, 39.84766387939453, 59.0805778503418, 33.86860656738281, 39.2514762878418, 35.69711685180664, 76.06563568115234, 39.34309387207031, 25.59080696105957, 36.483917236328125, 116.28814697265625, 5132.98388671875, 121.88188171386719, 145.36019897460938, 60.6349983215332, 53.37734603881836, 809.4336547851562, 107.2909927368164, 1347.7938232421875, 146.2135467529297, 188.64111328125, 765.281982421875, 1436.6536865234375, 88.99108123779297, 1449.8663330078125, 924.3103637695312, 172.15138244628906, 187.51490783691406, 94.06273651123047, 615.1658325195312, 221.59458923339844, 220.95590209960938, 253.55921936035156, 164.90940856933594, 823.18017578125, 356.4106140136719, 473.5082092285156, 824.904052734375, 392.3115539550781, 328.5541076660156, 4224.10693359375, 801.5527954101562, 893.9495239257812, 311.34771728515625, 4244.4189453125, 961.0631103515625, 295.4034118652344, 471.5157165527344, 342.9526672363281, 2003.44189453125, 1637.991943359375, 2876.5107421875, 1854.682861328125, 526.6289672851562, 1268.5631103515625, 404.5162658691406, 883.9008178710938, 1033.152587890625, 1767.5679931640625, 1291.224609375, 2421.986572265625, 776.7200927734375, 1633.4749755859375, 981.2811279296875, 717.75390625, 1659.8975830078125, 2336.98388671875, 1235.9781494140625, 799.7171630859375, 52.342098236083984, 61.9135627746582, 57.7811164855957, 52.1662483215332, 51.380699157714844, 43.57107162475586, 78.9920654296875, 38.17054748535156, 53.97298812866211, 156.5575408935547, 39.7216911315918, 37.03889465332031, 35.409732818603516, 34.481380462646484, 40.3313102722168, 30.602636337280273, 35.421287536621094, 41.879005432128906, 33.46082305908203, 34.160797119140625, 36.20860290527344, 29.010948181152344, 28.224531173706055, 48.1054573059082, 53.44732666015625, 35.94119644165039, 25.176517486572266, 37.27626419067383, 32.73722839355469, 27.258298873901367, 69.7573471069336, 67.82359313964844, 184.96986389160156, 60.11428451538086, 93.71755981445312, 71.59143829345703, 58.59142303466797, 1219.35498046875, 219.8892059326172, 137.82847595214844, 95.78015899658203, 83.3125228881836, 547.2482299804688, 174.1094512939453, 588.2018432617188, 249.44435119628906, 359.06365966796875, 273.70233154296875, 191.59823608398438, 2117.14404296875, 1050.0758056640625, 351.3477478027344, 115.16130065917969, 694.9573364257812, 851.1243896484375, 322.6981506347656, 264.7089538574219, 432.510009765625, 207.36598205566406, 471.091552734375, 492.4927673339844, 300.72955322265625, 2076.8125, 3115.070068359375, 2431.44140625, 1217.9385986328125, 1142.1561279296875, 1358.49560546875, 547.0492553710938, 706.47265625, 1024.201171875, 581.1863403320312, 5506.599609375, 621.3078002929688, 939.8818359375, 523.3406372070312, 916.9037475585938, 2528.612548828125, 2631.296630859375, 1013.6560668945312, 985.3546752929688, 2597.290771484375, 636.0375366210938, 1674.56787109375, 1256.4969482421875, 1661.6314697265625, 1249.608642578125, 1132.44140625, 837.1664428710938, 1308.4508056640625, 869.8756103515625, 720.5172729492188, 798.7212524414062, 726.7631225585938, 43.462615966796875, 80.59850311279297, 37.92527389526367, 36.734683990478516, 42.31203079223633, 58.45985412597656, 37.71414566040039, 32.8143424987793, 150.17129516601562, 40.66973876953125, 642.5750732421875, 32.4654655456543, 29.472640991210938, 30.083797454833984, 78.37257385253906, 27.230424880981445, 52.07133102416992, 639.2283325195312, 33.36042785644531, 32.244266510009766, 24.314821243286133, 26.555532455444336, 58.832008361816406, 30.613920211791992, 28.57896614074707, 30.99580192565918, 29.186986923217773, 69.42613220214844, 34.03553771972656, 55.85772705078125, 114.27681732177734, 524.2940673828125, 91.23109436035156, 95.53323364257812, 53.517799377441406, 61.25225830078125, 49.78700637817383, 532.9698486328125, 95.7219467163086, 152.1197967529297, 65.8435287475586, 66.90338897705078, 149.51890563964844, 324.9704895019531, 405.0398864746094, 2219.55615234375, 120.67282104492188, 67.68990325927734, 310.6640930175781, 740.6492919921875, 352.0314025878906, 216.52574157714844, 1306.929443359375, 686.6864013671875, 578.6677856445312, 559.2913818359375, 139.92819213867188, 886.3954467773438, 273.0955810546875, 252.18490600585938, 438.8807373046875, 314.7899475097656, 475.9001770019531, 334.50238037109375, 462.1414794921875, 710.4351806640625, 778.2479248046875, 249.5803680419922, 586.15380859375, 468.0943603515625, 718.8687133789062, 1046.4918212890625, 311.1105651855469, 671.738525390625, 4829.08935546875, 1167.19580078125, 675.5706787109375, 658.3258056640625, 1539.47216796875, 826.0533447265625, 1025.589599609375, 1295.3084716796875, 607.6089477539062, 1657.38720703125, 1138.7183837890625, 840.1041259765625, 722.3616333007812, 1067.8551025390625, 736.9269409179688, 825.9785766601562, 607.697998046875, 700.8143920898438, 651.389404296875], \"Term\": [\"Muslim\", \"sex\", \"woman\", \"people\", \"old\", \"Trump\", \"liberal\", \"Hindu\", \"Donald\", \"racist\", \"Jew\", \"American\", \"country\", \"answer\", \"mother\", \"sister\", \"question\", \"boy\", \"Quora\", \"help\", \"black\", \"Modi\", \"Chinese\", \"Russian\", \"white\", \"Islam\", \"rape\", \"eat\", \"BJP\", \"mom\", \"Hamas\", \"collusion\", \"Myanmar\", \"declare\", \"spouse\", \"Ivanka\", \"opposition\", \"overly\", \"heavily\", \"Malaysia\", \"killing\", \"heavy\", \"Pandits\", \"Alex\", \"witch\", \"cricket\", \"Shia\", \"medicine\", \"certificate\", \"Department\", \"DACA\", \"Rohingya\", \"academic\", \"affirmative\", \"bi\", \"Ukraine\", \"blowjob\", \"recruit\", \"Blue\", \"spy\", \"Muslim\", \"Kashmiri\", \"north\", \"Sunni\", \"Nobel\", \"Russian\", \"investigation\", \"Donald\", \"narcissist\", \"Mueller\", \"terrorist\", \"Hindu\", \"Taiwan\", \"Jew\", \"Islam\", \"carry\", \"Allah\", \"presidency\", \"attack\", \"dislike\", \"Party\", \"terrorism\", \"Palestine\", \"Pakistan\", \"Israeli\", \"see\", \"religion\", \"population\", \"Islamic\", \"Trump\", \"Israel\", \"Asian\", \"community\", \"woman\", \"China\", \"Iran\", \"UK\", \"Western\", \"country\", \"hate\", \"man\", \"India\", \"Russia\", \"Chinese\", \"Palestinian\", \"Obama\", \"well\", \"Quora\", \"world\", \"Indian\", \"support\", \"think\", \"question\", \"try\", \"like\", \"people\", \"American\", \"right\", \"Macedonians\", \"Jehovah\", \"bar\", \"Christmas\", \"Tennessee\", \"participate\", \"blonde\", \"Witnesses\", \"Weinstein\", \"smell\", \"trial\", \"brutality\", \"similarity\", \"electoral\", \"button\", \"Portuguese\", \"Joe\", \"Kingdom\", \"cocaine\", \"factor\", \"specially\", \"backwards\", \"belly\", \"Second\", \"Meghan\", \"exercise\", \"smelly\", \"pagan\", \"network\", \"tan\", \"forever\", \"Harvey\", \"Bill\", \"publicly\", \"pathetic\", \"haters\", \"massive\", \"racist\", \"college\", \"celebrate\", \"Queen\", \"consent\", \"States\", \"street\", \"United\", \"suffer\", \"racism\", \"one\", \"crazy\", \"liberal\", \"rape\", \"German\", \"everybody\", \"North\", \"God\", \"god\", \"class\", \"parent\", \"tax\", \"kid\", \"date\", \"term\", \"black\", \"American\", \"white\", \"child\", \"gay\", \"kill\", \"high\", \"conservative\", \"come\", \"race\", \"people\", \"life\", \"live\", \"South\", \"guy\", \"Indian\", \"like\", \"believe\", \"America\", \"woman\", \"African\", \"think\", \"want\", \"man\", \"girl\", \"country\", \"right\", \"Trump\", \"India\", \"look\", \"hate\", \"Christian\", \"procedure\", \"testicle\", \"grammar\", \"B\", \"rock\", \"pursue\", \"Moon\", \"condescend\", \"weird\", \"box\", \"mother\", \"magic\", \"Bihari\", \"clever\", \"obese\", \"Francisco\", \"aunty\", \"sister\", \"presence\", \"denounce\", \"Amit\", \"aboriginal\", \"differently\", \"drone\", \"net\", \"historically\", \"Sun\", \"prime\", \"contempt\", \"milk\", \"Nadu\", \"BJP\", \"pet\", \"aunt\", \"automatic\", \"r\", \"inferiority\", \"mom\", \"castration\", \"Vietnamese\", \"everyday\", \"road\", \"meat\", \"Tamil\", \"animal\", \"sex\", \"Mormon\", \"lip\", \"brother\", \"boy\", \"English\", \"blind\", \"old\", \"help\", \"dog\", \"fuck\", \"disorder\", \"answer\", \"mental\", \"masturbate\", \"word\", \"watch\", \"son\", \"write\", \"daughter\", \"eat\", \"Modi\", \"read\", \"have\", \"penis\", \"human\", \"year\", \"language\", \"European\", \"people\", \"know\", \"use\", \"person\", \"girl\", \"time\", \"question\", \"Quora\", \"big\", \"like\", \"want\", \"feel\", \"ask\", \"think\", \"Chinese\", \"man\", \"thing\", \"Trump\", \"Indian\"], \"Total\": [5410.0, 2562.0, 6950.0, 12672.0, 1531.0, 6233.0, 2581.0, 1609.0, 1477.0, 1320.0, 1661.0, 4766.0, 3215.0, 1066.0, 658.0, 656.0, 2079.0, 843.0, 3377.0, 786.0, 3018.0, 1018.0, 2088.0, 875.0, 3686.0, 1042.0, 1246.0, 886.0, 549.0, 562.0, 64.44590759277344, 101.6508560180664, 45.275794982910156, 129.65333557128906, 51.54136657714844, 49.45780944824219, 51.62657165527344, 44.037086486816406, 39.758792877197266, 95.27696990966797, 45.60099792480469, 37.257049560546875, 33.12887191772461, 36.58612823486328, 50.36951446533203, 39.41000747680664, 54.38751220703125, 58.494789123535156, 29.88155174255371, 36.03756332397461, 40.88362503051758, 60.63477325439453, 34.783119201660156, 40.315155029296875, 36.68043899536133, 78.16998291015625, 40.44573974609375, 26.31545639038086, 37.524078369140625, 119.61074829101562, 5410.3369140625, 126.00023651123047, 150.79148864746094, 62.404151916503906, 55.039920806884766, 875.4382934570312, 111.62037658691406, 1477.3280029296875, 153.3056182861328, 199.26666259765625, 832.2174072265625, 1609.8935546875, 93.29603576660156, 1661.3369140625, 1042.0208740234375, 184.9247283935547, 202.6163330078125, 99.04736328125, 716.4300537109375, 245.1314239501953, 244.86557006835938, 283.5486145019531, 179.54489135742188, 1004.6062622070312, 411.0235900878906, 562.4560546875, 1026.8017578125, 461.3908386230469, 383.7012939453125, 6233.3720703125, 1033.426513671875, 1168.8836669921875, 364.4320983886719, 6950.4736328125, 1313.78369140625, 345.9765319824219, 594.5940551757812, 411.7305603027344, 3215.417236328125, 2576.2138671875, 5364.12060546875, 3177.9990234375, 700.7232055664062, 2088.30419921875, 509.8883056640625, 1340.35986328125, 1691.02392578125, 3377.00732421875, 2272.520263671875, 5601.98828125, 1231.84912109375, 4375.89794921875, 2079.6904296875, 1214.925048828125, 5948.58154296875, 12672.6728515625, 4766.28466796875, 1833.9505615234375, 53.03886413574219, 62.742855072021484, 58.642669677734375, 52.953575134277344, 52.294639587402344, 44.37627410888672, 80.45667266845703, 38.92402648925781, 55.045963287353516, 159.7598876953125, 40.53873825073242, 37.81080627441406, 36.14876937866211, 35.226280212402344, 41.24833297729492, 31.312620162963867, 36.258033752441406, 42.880435943603516, 34.26445770263672, 34.98447799682617, 37.08681869506836, 29.739133834838867, 28.958721160888672, 49.40761947631836, 54.90378952026367, 36.92744445800781, 25.882991790771484, 38.349544525146484, 33.68583297729492, 28.057861328125, 71.84252166748047, 69.85920715332031, 192.51531982421875, 61.97097396850586, 97.11607360839844, 74.03373718261719, 60.48213577270508, 1320.9190673828125, 230.31480407714844, 144.2236328125, 99.92516326904297, 86.75688171386719, 596.0164794921875, 184.25238037109375, 649.3031005859375, 271.24517822265625, 399.1516418457031, 301.52667236328125, 208.2919921875, 2581.459716796875, 1246.8538818359375, 400.81365966796875, 123.31070709228516, 835.3685302734375, 1041.2464599609375, 369.38177490234375, 305.1404724121094, 521.0817260742188, 234.91580200195312, 573.2249145507812, 608.254150390625, 356.27325439453125, 3018.954345703125, 4766.28466796875, 3686.537109375, 1725.510986328125, 1623.4208984375, 1980.501953125, 715.176025390625, 987.5895385742188, 1544.927490234375, 785.546875, 12672.6728515625, 877.4593505859375, 1473.35986328125, 709.30224609375, 1451.8748779296875, 5601.98828125, 5948.58154296875, 1693.72607421875, 1721.226318359375, 6950.4736328125, 931.6902465820312, 4375.89794921875, 3020.399169921875, 5364.12060546875, 3484.14404296875, 3215.417236328125, 1833.9505615234375, 6233.3720703125, 3177.9990234375, 1530.4556884765625, 2576.2138671875, 1712.594970703125, 44.21781921386719, 82.1644287109375, 38.692604064941406, 37.513526916503906, 43.211456298828125, 59.72223663330078, 38.56371307373047, 33.57579040527344, 153.80465698242188, 41.658390045166016, 658.2485961914062, 33.26197052001953, 30.20987892150879, 30.836748123168945, 80.37846374511719, 27.96914291381836, 53.48820495605469, 656.8080444335938, 34.28485107421875, 33.14059066772461, 24.9909725189209, 27.300737380981445, 60.49065017700195, 31.479623794555664, 29.39537239074707, 31.892446517944336, 30.035263061523438, 71.44474792480469, 35.0265998840332, 57.52405548095703, 117.9090347290039, 549.5242919921875, 94.347900390625, 98.94017028808594, 55.14194107055664, 63.27831268310547, 51.34147644042969, 562.9493408203125, 99.8284912109375, 160.18875122070312, 68.21612548828125, 69.46430206298828, 157.9295196533203, 353.3351135253906, 443.5627136230469, 2562.002685546875, 127.68241882324219, 70.3921127319336, 339.01336669921875, 843.1820068359375, 388.55780029296875, 234.48414611816406, 1531.968017578125, 786.9674682617188, 667.0164794921875, 643.5568237304688, 150.90631103515625, 1066.5958251953125, 305.1680603027344, 281.1695556640625, 509.9515686035156, 358.1612854003906, 560.3609619140625, 383.7349853515625, 548.005615234375, 886.6764526367188, 1018.7755126953125, 289.318115234375, 784.462646484375, 611.27978515625, 1030.3892822265625, 1682.1572265625, 379.00384521484375, 992.6424560546875, 12672.6728515625, 2127.397216796875, 1028.673583984375, 995.66845703125, 3484.14404296875, 1452.37060546875, 2079.6904296875, 3377.00732421875, 966.2918090820312, 5948.58154296875, 3020.399169921875, 1864.588623046875, 1377.118896484375, 4375.89794921875, 2088.30419921875, 5364.12060546875, 1100.0311279296875, 6233.3720703125, 5601.98828125], \"loglift\": [30.0, 29.0, 28.0, 27.0, 26.0, 25.0, 24.0, 23.0, 22.0, 21.0, 20.0, 19.0, 18.0, 17.0, 16.0, 15.0, 14.0, 13.0, 12.0, 11.0, 10.0, 9.0, 8.0, 7.0, 6.0, 5.0, 4.0, 3.0, 2.0, 1.0, 1.0118000507354736, 1.0096999406814575, 1.0087000131607056, 1.0082999467849731, 1.0080000162124634, 1.0077999830245972, 1.0053999423980713, 1.0052000284194946, 1.0045000314712524, 1.00409996509552, 1.0037000179290771, 1.003600001335144, 1.003100037574768, 1.0020999908447266, 1.0020999908447266, 1.0019999742507935, 1.0011999607086182, 1.0003999471664429, 1.0003999471664429, 1.000100016593933, 0.9987000226974487, 0.9983999729156494, 0.9976999759674072, 0.9976000189781189, 0.9970999956130981, 0.996999979019165, 0.9966999888420105, 0.996399998664856, 0.9962000250816345, 0.9961000084877014, 0.9717000126838684, 0.991100013256073, 0.9876000285148621, 0.9955999851226807, 0.9936000108718872, 0.945900022983551, 0.9847999811172485, 0.9326000213623047, 0.9769999980926514, 0.9695000052452087, 0.940500020980835, 0.9104999899864197, 0.9771000146865845, 0.8881999850273132, 0.9045000076293945, 0.9527000188827515, 0.9469000101089478, 0.9726999998092651, 0.8719000220298767, 0.9233999848365784, 0.9215999841690063, 0.9125000238418579, 0.939300000667572, 0.8251000046730042, 0.8817999958992004, 0.8521999716758728, 0.805400013923645, 0.8621000051498413, 0.8691999912261963, 0.635200023651123, 0.7702000141143799, 0.7562000155448914, 0.8669000267982483, 0.5310999751091003, 0.7117000222206116, 0.8662999868392944, 0.7924000024795532, 0.8414999842643738, 0.5511999726295471, 0.5715000033378601, 0.40119999647140503, 0.48579999804496765, 0.7386999726295471, 0.5259000062942505, 0.7928000092506409, 0.6079999804496765, 0.5315999984741211, 0.37689998745918274, 0.45899999141693115, 0.1858000010251999, 0.5630999803543091, 0.03889999911189079, 0.27320000529289246, 0.49799999594688416, -0.25209999084472656, -0.6662999987602234, -0.3253999948501587, 0.19439999759197235, 1.021299958229065, 1.0211999416351318, 1.019700050354004, 1.0195000171661377, 1.016800045967102, 1.0161999464035034, 1.0161000490188599, 1.0148999691009521, 1.014799952507019, 1.01419997215271, 1.0140999555587769, 1.0139000415802002, 1.013800024986267, 1.013100028038025, 1.0119999647140503, 1.0115000009536743, 1.0111000537872314, 1.0108000040054321, 1.010699987411499, 1.010699987411499, 1.0104999542236328, 1.0096999406814575, 1.0088000297546387, 1.0077999830245972, 1.007599949836731, 1.0074000358581543, 1.0068000555038452, 1.006100058555603, 1.0059000253677368, 1.0055999755859375, 1.0049999952316284, 1.0048999786376953, 0.9944999814033508, 1.00409996509552, 0.9988999962806702, 1.0009000301361084, 1.0026999711990356, 0.9545000195503235, 0.9882000088691711, 0.9890999794006348, 0.9921000003814697, 0.9940000176429749, 0.9491000175476074, 0.9779000282287598, 0.9355999827384949, 0.9506999850273132, 0.928600013256073, 0.9376999735832214, 0.9509000182151794, 0.8361999988555908, 0.8626999855041504, 0.9028000235557556, 0.9660999774932861, 0.8504999876022339, 0.8328999876976013, 0.899399995803833, 0.892300009727478, 0.8482000231742859, 0.9096999764442444, 0.8382999897003174, 0.8234000205993652, 0.8650000095367432, 0.6603999733924866, 0.6092000007629395, 0.6183000206947327, 0.6861000061035156, 0.6829000115394592, 0.6575000286102295, 0.7664999961853027, 0.6995000243186951, 0.6233999729156494, 0.7332000136375427, 0.20100000500679016, 0.689300000667572, 0.5849000215530396, 0.730400025844574, 0.5748999714851379, 0.23899999260902405, 0.21879999339580536, 0.5210999846458435, 0.4767000079154968, 0.05009999871253967, 0.6527000069618225, 0.0738999992609024, 0.1573999971151352, -0.13750000298023224, 0.009100000374019146, -0.009100000374019146, 0.25029999017715454, -0.5266000032424927, -0.2612000107765198, 0.28110000491142273, -0.13660000264644623, 0.17730000615119934, 1.2360999584197998, 1.2340999841690063, 1.233299970626831, 1.2323999404907227, 1.232300043106079, 1.2319999933242798, 1.2310999631881714, 1.2303999662399292, 1.2294000387191772, 1.2293000221252441, 1.229200005531311, 1.229099988937378, 1.228600025177002, 1.228600025177002, 1.2280999422073364, 1.2266000509262085, 1.2265000343322754, 1.226199984550476, 1.2259999513626099, 1.2259000539779663, 1.2259000539779663, 1.2257000207901, 1.2254999876022339, 1.2254999876022339, 1.2252000570297241, 1.2247999906539917, 1.2246999740600586, 1.2246999740600586, 1.2245999574661255, 1.2239999771118164, 1.222100019454956, 1.2063000202178955, 1.2197999954223633, 1.2182999849319458, 1.2235000133514404, 1.2208000421524048, 1.222599983215332, 1.1986000537872314, 1.211300015449524, 1.20169997215271, 1.217900037765503, 1.2158000469207764, 1.1986000537872314, 1.169700026512146, 1.162500023841858, 1.1098999977111816, 1.1969000101089478, 1.2142000198364258, 1.1660000085830688, 1.1237000226974487, 1.1546000242233276, 1.173699975013733, 1.094499945640564, 1.1169999837875366, 1.111299991607666, 1.1130000352859497, 1.1778000593185425, 1.0683000087738037, 1.142300009727478, 1.1446000337600708, 1.1032999753952026, 1.1243000030517578, 1.090000033378601, 1.1160000562667847, 1.082900047302246, 1.0317000150680542, 0.984000027179718, 1.1055999994277954, 0.961899995803833, 0.9865000247955322, 0.8932999968528748, 0.7786999940872192, 1.055999994277954, 0.8628000020980835, 0.28859999775886536, 0.6531000137329102, 0.8328999876976013, 0.8396000266075134, 0.436599999666214, 0.6891000270843506, 0.5464000105857849, 0.29510000348091125, 0.7893999814987183, -0.02459999918937683, 0.27790001034736633, 0.4560999870300293, 0.6080999970436096, -0.15710000693798065, 0.21170000731945038, -0.6176000237464905, 0.6599000096321106, -0.9320999979972839, -0.8984000086784363], \"logprob\": [30.0, 29.0, 28.0, 27.0, 26.0, 25.0, 24.0, 23.0, 22.0, 21.0, 20.0, 19.0, 18.0, 17.0, 16.0, 15.0, 14.0, 13.0, 12.0, 11.0, 10.0, 9.0, 8.0, 7.0, 6.0, 5.0, 4.0, 3.0, 2.0, 1.0, -8.067399978637695, -7.613800048828125, -8.423600196838379, -7.3719000816345215, -8.294599533081055, -8.336099624633789, -8.295599937438965, -8.45479965209961, -8.557700157165527, -7.684100151062012, -8.42140007019043, -8.623600006103516, -8.741499900817871, -8.643199920654297, -8.323599815368652, -8.569000244140625, -8.247699737548828, -8.175700187683105, -8.847399711608887, -8.660300254821777, -8.535599708557129, -8.141799926757812, -8.698200225830078, -8.550700187683105, -8.645600318908691, -7.889100074768066, -8.548399925231934, -8.978500366210938, -8.623800277709961, -7.464600086212158, -3.677299976348877, -7.417699813842773, -7.241499900817871, -8.115799903869629, -8.243300437927246, -5.524400234222412, -7.545199871063232, -5.014500141143799, -7.235599994659424, -6.980899810791016, -5.58050012588501, -4.9506001472473145, -7.7322001457214355, -4.941500186920166, -5.39169979095459, -7.072299957275391, -6.986800193786621, -7.676700115203857, -5.798799991607666, -6.819900035858154, -6.822700023651123, -6.685100078582764, -7.115300178527832, -5.507500171661377, -6.344600200653076, -6.060500144958496, -5.50540018081665, -6.248600006103516, -6.426000118255615, -3.8721001148223877, -5.534200191497803, -5.425099849700928, -6.479800224304199, -3.867300033569336, -5.352700233459473, -6.532400131225586, -6.064799785614014, -6.3831000328063965, -4.618100166320801, -4.819499969482422, -4.256400108337402, -4.695199966430664, -5.95419979095459, -5.075099945068359, -6.2179999351501465, -5.436399936676025, -5.280300140380859, -4.743299961090088, -5.057400226593018, -4.428400039672852, -5.5655999183654785, -4.822199821472168, -5.3317999839782715, -5.644599914550781, -4.80620002746582, -4.464099884033203, -5.101099967956543, -5.536399841308594, -8.252699851989746, -8.084799766540527, -8.153900146484375, -8.256099700927734, -8.271300315856934, -8.436200141906738, -7.84119987487793, -8.568499565124512, -8.222100257873535, -7.157100200653076, -8.528599739074707, -8.598600387573242, -8.643600463867188, -8.670100212097168, -8.513400077819824, -8.78950023651123, -8.643199920654297, -8.475799560546875, -8.700200080871582, -8.679499626159668, -8.621299743652344, -8.842900276184082, -8.870400428771973, -8.337200164794922, -8.231900215148926, -8.628700256347656, -8.984600067138672, -8.59220027923584, -8.722000122070312, -8.905200004577637, -7.9654998779296875, -7.993599891662598, -6.9903998374938965, -8.114299774169922, -7.670300006866455, -7.939599990844727, -8.140000343322754, -5.104499816894531, -6.817399978637695, -7.2845001220703125, -7.648499965667725, -7.787899971008301, -5.905600070953369, -7.050899982452393, -5.833499908447266, -6.691299915313721, -6.327000141143799, -6.598499774932861, -6.955100059509277, -4.552700042724609, -5.253900051116943, -6.348800182342529, -7.464200019836426, -5.6666998863220215, -5.464000225067139, -6.433800220489502, -6.631899833679199, -6.140900135040283, -6.876100063323975, -6.055500030517578, -6.011099815368652, -6.504300117492676, -4.572000026702881, -4.166500091552734, -4.414299964904785, -5.105599880218506, -5.169899940490723, -4.996399879455566, -5.906000137329102, -5.650300025939941, -5.278900146484375, -5.8454999923706055, -3.5968000888824463, -5.77869987487793, -5.364799976348877, -5.950300216674805, -5.389500141143799, -4.375100135803223, -4.335299968719482, -5.2891998291015625, -5.317500114440918, -4.348299980163574, -5.755300045013428, -4.787199974060059, -5.07450008392334, -4.795000076293945, -5.079999923706055, -5.178400039672852, -5.480500221252441, -5.033899784088135, -5.442200183868408, -5.6305999755859375, -5.527500152587891, -5.6219000816345215, -8.219799995422363, -7.602200031280518, -8.356100082397461, -8.387999534606934, -8.246600151062012, -7.923299789428711, -8.361599922180176, -8.500800132751465, -6.979899883270264, -8.286199569702148, -5.526199817657471, -8.511500358581543, -8.608200073242188, -8.587699890136719, -7.630199909210205, -8.687299728393555, -8.03909969329834, -5.531400203704834, -8.484299659729004, -8.51830005645752, -8.800600051879883, -8.712400436401367, -7.916999816894531, -8.570199966430664, -8.638999938964844, -8.55780029296875, -8.618000030517578, -7.751399993896484, -8.464300155639648, -7.968900203704834, -7.2530999183654785, -5.729599952697754, -7.478300094604492, -7.432199954986572, -8.011699676513672, -7.876699924468994, -8.083900451660156, -5.713200092315674, -7.430200099945068, -6.9670000076293945, -7.8043999671936035, -7.788400173187256, -6.984300136566162, -6.207900047302246, -5.98769998550415, -4.286600112915039, -7.198599815368652, -7.776700019836426, -6.252999782562256, -5.384099960327148, -6.127999782562256, -6.613999843597412, -4.816199779510498, -5.459799766540527, -5.630899906158447, -5.664999961853027, -7.05049991607666, -5.204500198364258, -6.381899833679199, -6.46150016784668, -5.907400131225586, -6.239799976348877, -5.826499938964844, -6.178999900817871, -5.855800151824951, -5.42579984664917, -5.33459997177124, -6.47189998626709, -5.618100166320801, -5.8429999351501465, -5.414000034332275, -5.03849983215332, -6.251500129699707, -5.481800079345703, -3.5092999935150146, -4.929299831390381, -5.476099967956543, -5.501999855041504, -4.652500152587891, -5.275000095367432, -5.058700084686279, -4.825200080871582, -5.582099914550781, -4.578700065612793, -4.953999996185303, -5.2581000328063965, -5.40910005569458, -5.0183000564575195, -5.389200210571289, -5.275100231170654, -5.581999778747559, -5.4394001960754395, -5.512599945068359]}, \"token.table\": {\"Topic\": [1, 2, 3, 1, 1, 2, 3, 1, 2, 3, 1, 2, 3, 3, 1, 2, 3, 3, 1, 2, 3, 3, 1, 2, 3, 1, 2, 1, 2, 3, 1, 2, 3, 1, 2, 3, 2, 1, 3, 1, 1, 2, 3, 1, 2, 3, 1, 2, 3, 3, 1, 2, 3, 1, 2, 3, 1, 1, 2, 1, 2, 3, 1, 2, 3, 1, 2, 3, 1, 2, 3, 1, 2, 3, 1, 2, 3, 1, 2, 3, 1, 2, 3, 1, 2, 1, 2, 3, 2, 1, 2, 3, 1, 2, 2, 1, 3, 1, 2, 3, 1, 2, 3, 3, 1, 2, 3, 1, 2, 3, 1, 2, 3, 1, 1, 2, 3, 1, 2, 3, 1, 2, 3, 1, 2, 3, 1, 2, 3, 1, 2, 3, 1, 2, 3, 1, 1, 2, 3, 2, 1, 2, 3, 1, 2, 3, 1, 2, 3, 1, 2, 3, 1, 2, 3, 1, 2, 1, 3, 1, 2, 3, 1, 2, 3, 3, 1, 2, 3, 1, 2, 3, 1, 2, 3, 2, 1, 2, 3, 1, 2, 3, 1, 2, 3, 1, 2, 3, 1, 2, 3, 2, 3, 1, 2, 3, 2, 3, 1, 1, 3, 1, 2, 3, 1, 2, 3, 1, 2, 3, 1, 2, 3, 1, 2, 3, 1, 2, 3, 2, 3, 2, 2, 1, 2, 3, 2, 1, 1, 2, 3, 1, 2, 3, 1, 2, 3, 1, 2, 3, 1, 3, 1, 3, 1, 2, 3, 1, 2, 3, 2, 2, 3, 1, 2, 3, 1, 2, 3, 1, 2, 3, 1, 1, 2, 3, 1, 2, 3, 3, 2, 1, 2, 3, 1, 2, 1, 2, 3, 1, 2, 3, 3, 1, 2, 3, 1, 2, 3, 1, 3, 1, 2, 3, 1, 2, 3, 1, 2, 1, 2, 3, 1, 2, 3, 1, 2, 3, 3, 1, 3, 1, 2, 3, 1, 2, 3, 1, 2, 3, 3, 1, 2, 3, 2, 1, 2, 3, 2, 3, 2, 3, 2, 1, 2, 3, 1, 2, 3, 1, 2, 3, 1, 2, 3, 1, 2, 3, 1, 2, 3, 3, 1, 2, 3, 1, 2, 3, 1, 2, 3, 1, 2, 3, 1, 1, 1, 2, 3, 1, 2, 3, 1, 3, 1, 2, 3, 2, 3, 1, 2, 3, 1, 2, 3, 1, 2, 3, 1, 1, 2, 3, 1, 2, 3, 1, 2, 3, 1, 2, 3, 1, 2, 3, 1, 2, 3, 1, 2, 3, 1, 2, 3, 3, 1, 2, 3, 1, 2, 1, 2, 3, 1, 2, 3, 1, 2, 3, 1, 2, 3, 1, 3, 1, 2, 3, 1, 2, 3, 1, 2, 3, 3, 2, 1, 2, 3, 2, 3, 1, 2, 3, 1, 2, 3, 1, 2, 1, 1, 2, 3, 1, 2, 3, 2, 1, 2, 3, 1, 2, 3, 1, 2, 3, 1, 2, 3, 1, 2, 3, 1, 2, 3, 1, 3, 1, 2, 1, 2, 3, 3, 1, 2, 3, 2, 3, 1, 2, 3, 2, 3, 1, 2, 3, 1, 2, 3, 1, 2, 3, 1, 2, 3, 1, 2, 3, 1, 1, 2, 3, 1, 2, 3, 1, 2, 3, 1, 3, 1, 2, 3, 1, 2, 3, 2, 1, 2, 3, 1, 2, 3, 2, 1, 2, 3, 2, 1, 1, 2, 3, 1, 2, 3, 1, 2, 3, 1, 2, 3, 2, 1, 2, 3, 1, 2, 3, 1, 2, 3, 1, 2, 3, 1, 2, 3, 1, 2, 3, 1, 2, 3, 1, 2, 3, 2, 1, 2, 3, 1, 2, 3, 1, 2, 3, 1, 2, 3, 1, 2, 3, 1, 2, 3, 1, 2, 3, 1, 2, 1, 2, 3, 1, 2, 3, 1, 2, 3, 1, 2, 3, 1, 2, 3], \"Freq\": [0.1470445841550827, 0.6826303005218506, 0.17065757513046265, 0.9839795231819153, 0.9278620481491089, 0.04935436323285103, 0.029612617567181587, 0.35381749272346497, 0.5722663998603821, 0.07378460466861725, 0.2593214809894562, 0.6535488963127136, 0.08706991374492645, 0.9603467583656311, 0.7648323178291321, 0.14458239078521729, 0.09068481624126434, 0.9863108992576599, 0.00909877847880125, 0.036395113915205, 0.9535520076751709, 0.959950864315033, 0.02597195841372013, 0.9609624743461609, 0.015583175234496593, 0.9593839645385742, 0.026649555191397667, 0.7314750552177429, 0.07154906541109085, 0.19714051485061646, 0.6076700687408447, 0.03974516689777374, 0.35291793942451477, 0.42099854350090027, 0.42450201511383057, 0.15473593771457672, 0.981992244720459, 0.9783868193626404, 0.02445967122912407, 0.9712088108062744, 0.9124581813812256, 0.047382842749357224, 0.04061386361718178, 0.030883437022566795, 0.0643404945731163, 0.9059141278266907, 0.1682378202676773, 0.1551414579153061, 0.6769809126853943, 0.965349555015564, 0.08981730043888092, 0.8757186532020569, 0.03492894768714905, 0.029772009700536728, 0.8172897100448608, 0.15270160138607025, 0.9930809140205383, 0.028629010543227196, 0.9733863472938538, 0.8926056027412415, 0.03105795383453369, 0.07640256732702255, 0.5837005972862244, 0.2737571597099304, 0.1425425261259079, 0.43234649300575256, 0.45144686102867126, 0.11620873957872391, 0.8526589870452881, 0.10116293281316757, 0.04624591022729874, 0.8867384791374207, 0.0748545452952385, 0.03838694840669632, 0.857437789440155, 0.08339820802211761, 0.06254865229129791, 0.7760590314865112, 0.1480511724948883, 0.07644472271203995, 0.8661303520202637, 0.051091957837343216, 0.0827203094959259, 0.9907434582710266, 0.9881603121757507, 0.872791051864624, 0.0607944130897522, 0.06621173769235611, 0.9653033018112183, 0.9682521224021912, 0.02380947954952717, 0.015872986987233162, 0.02332065813243389, 0.9794676303863525, 0.9804131388664246, 0.9761015772819519, 0.010495715774595737, 0.018213678151369095, 0.9653249979019165, 0.018213678151369095, 0.036318108439445496, 0.2002403885126114, 0.7636618614196777, 0.9853823184967041, 0.015663864091038704, 0.039159659296274185, 0.9476637244224548, 0.9484777450561523, 0.025092003867030144, 0.025092003867030144, 0.9487394094467163, 0.019592124968767166, 0.03160616382956505, 0.9939085841178894, 0.01696222834289074, 0.01696222834289074, 0.9668470025062561, 0.9629374146461487, 0.018168630078434944, 0.018168630078434944, 0.1113281100988388, 0.8319681286811829, 0.05626259371638298, 0.6595243811607361, 0.27529919147491455, 0.06490793824195862, 0.8192264437675476, 0.13836266100406647, 0.041807424277067184, 0.9189901947975159, 0.02784818783402443, 0.05569637566804886, 0.794291615486145, 0.07060369849205017, 0.13728496432304382, 0.965924859046936, 0.9025360345840454, 0.06942585110664368, 0.028587114065885544, 0.9900161623954773, 0.02001497894525528, 0.9607189893722534, 0.02001497894525528, 0.5235404968261719, 0.0929817333817482, 0.3834756314754486, 0.9730390310287476, 0.01649218611419201, 0.01649218611419201, 0.7520801424980164, 0.15698067843914032, 0.09133420884609222, 0.9241085648536682, 0.06396795809268951, 0.011422849260270596, 0.02023979276418686, 0.9715100526809692, 0.974488377571106, 0.01838657446205616, 0.12970493733882904, 0.7373443245887756, 0.13252460956573486, 0.07885687798261642, 0.9177598357200623, 0.003355611814185977, 0.9655317664146423, 0.9774990677833557, 0.016024574637413025, 0.016024574637413025, 0.9539526700973511, 0.042874276638031006, 0.010718569159507751, 0.019811220467090607, 0.05943366140127182, 0.9198066592216492, 0.975243330001831, 0.677642822265625, 0.20983827114105225, 0.112459197640419, 0.7938188910484314, 0.10259100049734116, 0.10427282005548477, 0.9722402095794678, 0.012792633846402168, 0.012792633846402168, 0.09086665511131287, 0.905586302280426, 0.0030802255496382713, 0.031213177368044853, 0.018727906048297882, 0.9488806128501892, 0.9809983372688293, 0.018166637048125267, 0.8330690860748291, 0.08257827907800674, 0.08500704914331436, 0.976260781288147, 0.9889842867851257, 0.9774856567382812, 0.9673781394958496, 0.02480456791818142, 0.027053670957684517, 0.060870762914419174, 0.9130614399909973, 0.1256333440542221, 0.043127864599227905, 0.8306801915168762, 0.3572676181793213, 0.11763690412044525, 0.5242829918861389, 0.8584229350090027, 0.06560305505990982, 0.07537372410297394, 0.030321354046463966, 0.010107118636369705, 0.9702833294868469, 0.018695710226893425, 0.018695710226893425, 0.9721769690513611, 0.018135016784071922, 0.9792909026145935, 0.9751461148262024, 0.9890409111976624, 0.20959705114364624, 0.5986800193786621, 0.1918846219778061, 0.9668935537338257, 0.981449544429779, 0.1728256344795227, 0.1986977458000183, 0.6292095184326172, 0.13647109270095825, 0.6879865527153015, 0.175557479262352, 0.029852764680981636, 0.046911485493183136, 0.9254357218742371, 0.012429050169885159, 0.9818949699401855, 0.012429050169885159, 0.9642548561096191, 0.024724483489990234, 0.024004768580198288, 0.9841954708099365, 0.09725065529346466, 0.024905655533075333, 0.8788138031959534, 0.032447099685668945, 0.05014551430940628, 0.9173679351806641, 0.978556215763092, 0.9697361588478088, 0.02424340322613716, 0.9301081895828247, 0.02163042314350605, 0.048668451607227325, 0.010017179884016514, 0.030051540583372116, 0.9616492986679077, 0.027734706178307533, 0.9568473696708679, 0.013867353089153767, 0.9704984426498413, 0.12286215275526047, 0.7058778405189514, 0.17154338955879211, 0.10486973077058792, 0.8684524893760681, 0.02949461340904236, 0.9728652238845825, 0.963097095489502, 0.0043418831191957, 0.9552143216133118, 0.039076950401067734, 0.9837595224380493, 0.009837595745921135, 0.1469324678182602, 0.6628142595291138, 0.19030019640922546, 0.8533825874328613, 0.06585589051246643, 0.07957586646080017, 0.9828510284423828, 0.01152646355330944, 0.9566964507102966, 0.02305292710661888, 0.18226195871829987, 0.714871883392334, 0.10226920992136002, 0.02854973077774048, 0.9706908464431763, 0.6229362487792969, 0.35205385088920593, 0.02488012984395027, 0.028805715963244438, 0.921782910823822, 0.05281047895550728, 0.9895963668823242, 0.025374265387654305, 0.08713462948799133, 0.808872401714325, 0.10357512533664703, 0.08211594820022583, 0.0748167484998703, 0.8430570363998413, 0.9872480034828186, 0.00771287502720952, 0.00771287502720952, 0.9655832648277283, 0.016531480476260185, 0.9753573536872864, 0.9056366682052612, 0.008158888667821884, 0.08566833287477493, 0.019879885017871857, 0.05301302298903465, 0.9277279376983643, 0.052472468465566635, 0.07945830374956131, 0.8680444955825806, 0.9847639799118042, 0.05639035627245903, 0.14210370182991028, 0.800743043422699, 0.9651885032653809, 0.032438382506370544, 0.9326035380363464, 0.032438382506370544, 0.02931858040392399, 0.9675131440162659, 0.9748846888542175, 0.027080129832029343, 0.9718595743179321, 0.2831723690032959, 0.26654672622680664, 0.4505015015602112, 0.02783866599202156, 0.9743533134460449, 0.01391933299601078, 0.01553864311426878, 0.11498595774173737, 0.868610143661499, 0.03572702407836914, 0.7034528255462646, 0.26056089997291565, 0.19947510957717896, 0.35876816511154175, 0.44171538949012756, 0.07309510558843613, 0.8744340538978577, 0.05414452403783798, 0.9820998311042786, 0.19354285299777985, 0.631597101688385, 0.17494620382785797, 0.635816752910614, 0.3101450502872467, 0.05434331297874451, 0.013507355004549026, 0.9725295901298523, 0.027014710009098053, 0.10707966983318329, 0.14532241225242615, 0.7470081448554993, 0.9809150695800781, 0.9662600755691528, 0.0266847126185894, 0.10038534551858902, 0.8729712963104248, 0.14681699872016907, 0.764846682548523, 0.0880902037024498, 0.03135538846254349, 0.9720169901847839, 0.06405346095561981, 0.23777420818805695, 0.697794497013092, 0.01947742886841297, 0.9738714694976807, 0.9586063623428345, 0.008958937600255013, 0.03583575040102005, 0.033145803958177567, 0.8216670155525208, 0.14479482173919678, 0.2469071000814438, 0.6856847405433655, 0.06715469062328339, 0.9868205189704895, 0.26229235529899597, 0.18943336606025696, 0.5485576391220093, 0.023746460676193237, 0.15567123889923096, 0.8205721378326416, 0.07670079171657562, 0.8200786709785461, 0.10304247587919235, 0.03874823451042175, 0.7077251076698303, 0.25300318002700806, 0.2790581285953522, 0.4422903060913086, 0.2785538136959076, 0.01420613657683134, 0.01420613657683134, 0.9660173058509827, 0.19615031778812408, 0.637997567653656, 0.16560788452625275, 0.2763882577419281, 0.4711015224456787, 0.25286585092544556, 0.9620596766471863, 0.5363414287567139, 0.3098364472389221, 0.1539860963821411, 0.016533806920051575, 0.9754946231842041, 0.06046173721551895, 0.04267887398600578, 0.8962563276290894, 0.01899581588804722, 0.03165969252586365, 0.9497907757759094, 0.9744457602500916, 0.01709553971886635, 0.01709553971886635, 0.022938180714845657, 0.08192206919193268, 0.8945890069007874, 0.017384031787514687, 0.9735057950019836, 0.03552717715501785, 0.017763588577508926, 0.9467992186546326, 0.013672646135091782, 0.010634279809892178, 0.9768345952033997, 0.9523460268974304, 0.0065229181200265884, 0.03913750872015953, 0.9865498542785645, 0.9796403050422668, 0.9615927338600159, 0.019895022734999657, 0.013263348489999771, 0.02488228678703308, 0.9704092144966125, 0.06462275981903076, 0.08224714547395706, 0.8531509637832642, 0.02984810620546341, 0.9087089896202087, 0.06301266700029373, 0.9878633618354797, 0.01936987042427063, 0.976449728012085, 0.026075929403305054, 0.9648093581199646, 0.026075929403305054, 0.03838169574737549, 0.8309637308120728, 0.13241684436798096, 0.9915208220481873, 0.030890870839357376, 0.9679139256477356, 0.0102969566360116, 0.21594040095806122, 0.017995033413171768, 0.7656068801879883, 0.18441255390644073, 0.43455711007118225, 0.38105615973472595, 0.07532627880573273, 0.2631398141384125, 0.6608625650405884, 0.02119814045727253, 0.010599070228636265, 0.9645153880119324, 0.8496050834655762, 0.11270271241664886, 0.036845117807388306, 0.029167400673031807, 0.9625242352485657, 0.9490408897399902, 0.05048089846968651, 0.013996830210089684, 0.013996830210089684, 0.9657812714576721, 0.9724586606025696, 0.016136586666107178, 0.9681951999664307, 0.016136586666107178, 0.016744181513786316, 0.9711625576019287, 0.4717048108577728, 0.035101376473903656, 0.49334266781806946, 0.03160640597343445, 0.9639953374862671, 0.1514868289232254, 0.7396121621131897, 0.10820487141609192, 0.040085017681121826, 0.8994075655937195, 0.06012752279639244, 0.049965210258960724, 0.9228423237800598, 0.02725375071167946, 0.09704425185918808, 0.8421195149421692, 0.06095341220498085, 0.017282014712691307, 0.120974101126194, 0.8641007542610168, 0.9880124926567078, 0.803465723991394, 0.17530161142349243, 0.021425751969218254, 0.4362167716026306, 0.4563918113708496, 0.10741838067770004, 0.014395883306860924, 0.028791766613721848, 0.9645242094993591, 0.02314201183617115, 0.9719644784927368, 0.8427324891090393, 0.10311916470527649, 0.05511541664600372, 0.02888365462422371, 0.10499598830938339, 0.8665096163749695, 0.9682210683822632, 0.010657603852450848, 0.01674766279757023, 0.9728869795799255, 0.006259393412619829, 0.9827247858047485, 0.012518786825239658, 0.9658852219581604, 0.04104497283697128, 0.11064296960830688, 0.8494524359703064, 0.9706952571868896, 0.9894964694976807, 0.9698125123977661, 0.008360452950000763, 0.02508135885000229, 0.016282014548778534, 0.9443568587303162, 0.037991367280483246, 0.055300522595644, 0.917988657951355, 0.025806911289691925, 0.630759060382843, 0.2622074484825134, 0.10715597867965698, 0.9622971415519714, 0.07662320137023926, 0.8811667561531067, 0.04256844148039818, 0.05894352123141289, 0.8448571562767029, 0.09543236345052719, 0.8957899808883667, 0.06700790673494339, 0.038794051855802536, 0.9192309379577637, 0.030040226876735687, 0.05046758055686951, 0.012170717120170593, 0.012170717120170593, 0.9858280420303345, 0.3645351529121399, 0.082724928855896, 0.5527116060256958, 0.3731805384159088, 0.3827785849571228, 0.24406419694423676, 0.14046001434326172, 0.29055944085121155, 0.5687253475189209, 0.9867105484008789, 0.590982973575592, 0.21976664662361145, 0.18931208550930023, 0.22358889877796173, 0.11957145482301712, 0.6571569442749023, 0.20692628622055054, 0.4158390760421753, 0.37710246443748474, 0.07259299606084824, 0.04746465012431145, 0.8794920444488525, 0.013003507629036903, 0.006501753814518452, 0.9752630591392517, 0.6108725070953369, 0.2501443028450012, 0.1389690637588501, 0.1893375813961029, 0.6594264507293701, 0.15109029412269592, 0.9728106260299683, 0.01985327899456024, 0.6106058955192566, 0.3736436069011688, 0.015682384371757507, 0.08432172983884811, 0.05490717664361, 0.8608660697937012, 0.5680917501449585, 0.2649041414260864, 0.1667751967906952, 0.05211930349469185, 0.07557298988103867, 0.8729982972145081, 0.21044406294822693, 0.16764187812805176, 0.6218205690383911], \"Term\": [\"African\", \"African\", \"African\", \"Alex\", \"Allah\", \"Allah\", \"Allah\", \"America\", \"America\", \"America\", \"American\", \"American\", \"American\", \"Amit\", \"Asian\", \"Asian\", \"Asian\", \"B\", \"BJP\", \"BJP\", \"BJP\", \"Bihari\", \"Bill\", \"Bill\", \"Bill\", \"Blue\", \"Blue\", \"China\", \"China\", \"China\", \"Chinese\", \"Chinese\", \"Chinese\", \"Christian\", \"Christian\", \"Christian\", \"Christmas\", \"DACA\", \"DACA\", \"Department\", \"Donald\", \"Donald\", \"Donald\", \"English\", \"English\", \"English\", \"European\", \"European\", \"European\", \"Francisco\", \"German\", \"German\", \"German\", \"God\", \"God\", \"God\", \"Hamas\", \"Harvey\", \"Harvey\", \"Hindu\", \"Hindu\", \"Hindu\", \"India\", \"India\", \"India\", \"Indian\", \"Indian\", \"Indian\", \"Iran\", \"Iran\", \"Iran\", \"Islam\", \"Islam\", \"Islam\", \"Islamic\", \"Islamic\", \"Islamic\", \"Israel\", \"Israel\", \"Israel\", \"Israeli\", \"Israeli\", \"Israeli\", \"Ivanka\", \"Jehovah\", \"Jew\", \"Jew\", \"Jew\", \"Joe\", \"Kashmiri\", \"Kashmiri\", \"Kashmiri\", \"Kingdom\", \"Kingdom\", \"Macedonians\", \"Malaysia\", \"Malaysia\", \"Meghan\", \"Meghan\", \"Meghan\", \"Modi\", \"Modi\", \"Modi\", \"Moon\", \"Mormon\", \"Mormon\", \"Mormon\", \"Mueller\", \"Mueller\", \"Mueller\", \"Muslim\", \"Muslim\", \"Muslim\", \"Myanmar\", \"Nadu\", \"Nadu\", \"Nadu\", \"Nobel\", \"Nobel\", \"Nobel\", \"North\", \"North\", \"North\", \"Obama\", \"Obama\", \"Obama\", \"Pakistan\", \"Pakistan\", \"Pakistan\", \"Palestine\", \"Palestine\", \"Palestine\", \"Palestinian\", \"Palestinian\", \"Palestinian\", \"Pandits\", \"Party\", \"Party\", \"Party\", \"Portuguese\", \"Queen\", \"Queen\", \"Queen\", \"Quora\", \"Quora\", \"Quora\", \"Rohingya\", \"Rohingya\", \"Rohingya\", \"Russia\", \"Russia\", \"Russia\", \"Russian\", \"Russian\", \"Russian\", \"Second\", \"Second\", \"Shia\", \"Shia\", \"South\", \"South\", \"South\", \"States\", \"States\", \"States\", \"Sun\", \"Sunni\", \"Sunni\", \"Sunni\", \"Taiwan\", \"Taiwan\", \"Taiwan\", \"Tamil\", \"Tamil\", \"Tamil\", \"Tennessee\", \"Trump\", \"Trump\", \"Trump\", \"UK\", \"UK\", \"UK\", \"Ukraine\", \"Ukraine\", \"Ukraine\", \"United\", \"United\", \"United\", \"Vietnamese\", \"Vietnamese\", \"Vietnamese\", \"Weinstein\", \"Weinstein\", \"Western\", \"Western\", \"Western\", \"Witnesses\", \"aboriginal\", \"academic\", \"affirmative\", \"affirmative\", \"animal\", \"animal\", \"animal\", \"answer\", \"answer\", \"answer\", \"ask\", \"ask\", \"ask\", \"attack\", \"attack\", \"attack\", \"aunt\", \"aunt\", \"aunt\", \"aunty\", \"aunty\", \"aunty\", \"automatic\", \"automatic\", \"backwards\", \"bar\", \"believe\", \"believe\", \"believe\", \"belly\", \"bi\", \"big\", \"big\", \"big\", \"black\", \"black\", \"black\", \"blind\", \"blind\", \"blind\", \"blonde\", \"blonde\", \"blonde\", \"blowjob\", \"blowjob\", \"box\", \"box\", \"boy\", \"boy\", \"boy\", \"brother\", \"brother\", \"brother\", \"brutality\", \"button\", \"button\", \"carry\", \"carry\", \"carry\", \"castration\", \"castration\", \"castration\", \"celebrate\", \"celebrate\", \"celebrate\", \"certificate\", \"child\", \"child\", \"child\", \"class\", \"class\", \"class\", \"clever\", \"cocaine\", \"college\", \"college\", \"college\", \"collusion\", \"collusion\", \"come\", \"come\", \"come\", \"community\", \"community\", \"community\", \"condescend\", \"consent\", \"consent\", \"consent\", \"conservative\", \"conservative\", \"conservative\", \"contempt\", \"contempt\", \"country\", \"country\", \"country\", \"crazy\", \"crazy\", \"crazy\", \"cricket\", \"cricket\", \"date\", \"date\", \"date\", \"daughter\", \"daughter\", \"daughter\", \"declare\", \"declare\", \"declare\", \"denounce\", \"differently\", \"differently\", \"dislike\", \"dislike\", \"dislike\", \"disorder\", \"disorder\", \"disorder\", \"dog\", \"dog\", \"dog\", \"drone\", \"eat\", \"eat\", \"eat\", \"electoral\", \"everybody\", \"everybody\", \"everybody\", \"everyday\", \"everyday\", \"exercise\", \"exercise\", \"factor\", \"feel\", \"feel\", \"feel\", \"forever\", \"forever\", \"forever\", \"fuck\", \"fuck\", \"fuck\", \"gay\", \"gay\", \"gay\", \"girl\", \"girl\", \"girl\", \"god\", \"god\", \"god\", \"grammar\", \"guy\", \"guy\", \"guy\", \"hate\", \"hate\", \"hate\", \"haters\", \"haters\", \"haters\", \"have\", \"have\", \"have\", \"heavily\", \"heavy\", \"help\", \"help\", \"help\", \"high\", \"high\", \"high\", \"historically\", \"historically\", \"human\", \"human\", \"human\", \"inferiority\", \"inferiority\", \"investigation\", \"investigation\", \"investigation\", \"kid\", \"kid\", \"kid\", \"kill\", \"kill\", \"kill\", \"killing\", \"know\", \"know\", \"know\", \"language\", \"language\", \"language\", \"liberal\", \"liberal\", \"liberal\", \"life\", \"life\", \"life\", \"like\", \"like\", \"like\", \"lip\", \"lip\", \"lip\", \"live\", \"live\", \"live\", \"look\", \"look\", \"look\", \"magic\", \"man\", \"man\", \"man\", \"massive\", \"massive\", \"masturbate\", \"masturbate\", \"masturbate\", \"meat\", \"meat\", \"meat\", \"medicine\", \"medicine\", \"medicine\", \"mental\", \"mental\", \"mental\", \"milk\", \"milk\", \"mom\", \"mom\", \"mom\", \"mother\", \"mother\", \"mother\", \"narcissist\", \"narcissist\", \"narcissist\", \"net\", \"network\", \"north\", \"north\", \"north\", \"obese\", \"obese\", \"old\", \"old\", \"old\", \"one\", \"one\", \"one\", \"opposition\", \"opposition\", \"overly\", \"pagan\", \"pagan\", \"pagan\", \"parent\", \"parent\", \"parent\", \"participate\", \"pathetic\", \"pathetic\", \"pathetic\", \"penis\", \"penis\", \"penis\", \"people\", \"people\", \"people\", \"person\", \"person\", \"person\", \"pet\", \"pet\", \"pet\", \"population\", \"population\", \"population\", \"presence\", \"presence\", \"presidency\", \"presidency\", \"prime\", \"prime\", \"prime\", \"procedure\", \"publicly\", \"publicly\", \"publicly\", \"pursue\", \"pursue\", \"question\", \"question\", \"question\", \"r\", \"r\", \"race\", \"race\", \"race\", \"racism\", \"racism\", \"racism\", \"racist\", \"racist\", \"racist\", \"rape\", \"rape\", \"rape\", \"read\", \"read\", \"read\", \"recruit\", \"religion\", \"religion\", \"religion\", \"right\", \"right\", \"right\", \"road\", \"road\", \"road\", \"rock\", \"rock\", \"see\", \"see\", \"see\", \"sex\", \"sex\", \"sex\", \"similarity\", \"sister\", \"sister\", \"sister\", \"smell\", \"smell\", \"smell\", \"smelly\", \"son\", \"son\", \"son\", \"specially\", \"spouse\", \"spy\", \"spy\", \"spy\", \"street\", \"street\", \"street\", \"suffer\", \"suffer\", \"suffer\", \"support\", \"support\", \"support\", \"tan\", \"tax\", \"tax\", \"tax\", \"term\", \"term\", \"term\", \"terrorism\", \"terrorism\", \"terrorism\", \"terrorist\", \"terrorist\", \"terrorist\", \"testicle\", \"testicle\", \"testicle\", \"thing\", \"thing\", \"thing\", \"think\", \"think\", \"think\", \"time\", \"time\", \"time\", \"trial\", \"try\", \"try\", \"try\", \"use\", \"use\", \"use\", \"want\", \"want\", \"want\", \"watch\", \"watch\", \"watch\", \"weird\", \"weird\", \"weird\", \"well\", \"well\", \"well\", \"white\", \"white\", \"white\", \"witch\", \"witch\", \"woman\", \"woman\", \"woman\", \"word\", \"word\", \"word\", \"world\", \"world\", \"world\", \"write\", \"write\", \"write\", \"year\", \"year\", \"year\"]}, \"R\": 30, \"lambda.step\": 0.01, \"plot.opts\": {\"xlab\": \"PC1\", \"ylab\": \"PC2\"}, \"topic.order\": [1, 3, 2]};\n",
       "\n",
       "function LDAvis_load_lib(url, callback){\n",
       "  var s = document.createElement('script');\n",
       "  s.src = url;\n",
       "  s.async = true;\n",
       "  s.onreadystatechange = s.onload = callback;\n",
       "  s.onerror = function(){console.warn(\"failed to load library \" + url);};\n",
       "  document.getElementsByTagName(\"head\")[0].appendChild(s);\n",
       "}\n",
       "\n",
       "if(typeof(LDAvis) !== \"undefined\"){\n",
       "   // already loaded: just create the visualization\n",
       "   !function(LDAvis){\n",
       "       new LDAvis(\"#\" + \"ldavis_el93650188032005535738651\", ldavis_el93650188032005535738651_data);\n",
       "   }(LDAvis);\n",
       "}else if(typeof define === \"function\" && define.amd){\n",
       "   // require.js is available: use it to load d3/LDAvis\n",
       "   require.config({paths: {d3: \"https://cdnjs.cloudflare.com/ajax/libs/d3/3.5.5/d3.min\"}});\n",
       "   require([\"d3\"], function(d3){\n",
       "      window.d3 = d3;\n",
       "      LDAvis_load_lib(\"https://cdn.rawgit.com/bmabey/pyLDAvis/files/ldavis.v1.0.0.js\", function(){\n",
       "        new LDAvis(\"#\" + \"ldavis_el93650188032005535738651\", ldavis_el93650188032005535738651_data);\n",
       "      });\n",
       "    });\n",
       "}else{\n",
       "    // require.js not available: dynamically load d3 & LDAvis\n",
       "    LDAvis_load_lib(\"https://cdnjs.cloudflare.com/ajax/libs/d3/3.5.5/d3.min.js\", function(){\n",
       "         LDAvis_load_lib(\"https://cdn.rawgit.com/bmabey/pyLDAvis/files/ldavis.v1.0.0.js\", function(){\n",
       "                 new LDAvis(\"#\" + \"ldavis_el93650188032005535738651\", ldavis_el93650188032005535738651_data);\n",
       "            })\n",
       "         });\n",
       "}\n",
       "</script>"
      ],
      "text/plain": [
       "PreparedData(topic_coordinates=              x         y  topics  cluster       Freq\n",
       "topic                                                \n",
       "0      0.097739  0.062202       1        1  35.904057\n",
       "2      0.018258 -0.099026       2        1  35.541241\n",
       "1     -0.115997  0.036824       3        1  28.554708, topic_info=     Category          Freq      Term         Total  loglift  logprob\n",
       "137   Default   5410.000000    Muslim   5410.000000  30.0000  30.0000\n",
       "146   Default   2562.000000       sex   2562.000000  29.0000  29.0000\n",
       "37    Default   6950.000000     woman   6950.000000  28.0000  28.0000\n",
       "100   Default  12672.000000    people  12672.000000  27.0000  27.0000\n",
       "464   Default   1531.000000       old   1531.000000  26.0000  26.0000\n",
       "92    Default   6233.000000     Trump   6233.000000  25.0000  25.0000\n",
       "86    Default   2581.000000   liberal   2581.000000  24.0000  24.0000\n",
       "294   Default   1609.000000     Hindu   1609.000000  23.0000  23.0000\n",
       "463   Default   1477.000000    Donald   1477.000000  22.0000  22.0000\n",
       "1161  Default   1320.000000    racist   1320.000000  21.0000  21.0000\n",
       "61    Default   1661.000000       Jew   1661.000000  20.0000  20.0000\n",
       "34    Default   4766.000000  American   4766.000000  19.0000  19.0000\n",
       "103   Default   3215.000000   country   3215.000000  18.0000  18.0000\n",
       "139   Default   1066.000000    answer   1066.000000  17.0000  17.0000\n",
       "645   Default    658.000000    mother    658.000000  16.0000  16.0000\n",
       "376   Default    656.000000    sister    656.000000  15.0000  15.0000\n",
       "182   Default   2079.000000  question   2079.000000  14.0000  14.0000\n",
       "19    Default    843.000000       boy    843.000000  13.0000  13.0000\n",
       "138   Default   3377.000000     Quora   3377.000000  12.0000  12.0000\n",
       "468   Default    786.000000      help    786.000000  11.0000  11.0000\n",
       "11    Default   3018.000000     black   3018.000000  10.0000  10.0000\n",
       "636   Default   1018.000000      Modi   1018.000000   9.0000   9.0000\n",
       "168   Default   2088.000000   Chinese   2088.000000   8.0000   8.0000\n",
       "379   Default    875.000000   Russian    875.000000   7.0000   7.0000\n",
       "364   Default   3686.000000     white   3686.000000   6.0000   6.0000\n",
       "446   Default   1042.000000     Islam   1042.000000   5.0000   5.0000\n",
       "462   Default   1246.000000      rape   1246.000000   4.0000   4.0000\n",
       "331   Default    886.000000       eat    886.000000   3.0000   3.0000\n",
       "1777  Default    549.000000       BJP    549.000000   2.0000   2.0000\n",
       "145   Default    562.000000       mom    562.000000   1.0000   1.0000\n",
       "...       ...           ...       ...           ...      ...      ...\n",
       "689    Topic3    334.502380     write    383.734985   1.1160  -6.1790\n",
       "836    Topic3    462.141479  daughter    548.005615   1.0829  -5.8558\n",
       "331    Topic3    710.435181       eat    886.676453   1.0317  -5.4258\n",
       "636    Topic3    778.247925      Modi   1018.775513   0.9840  -5.3346\n",
       "1707   Topic3    249.580368      read    289.318115   1.1056  -6.4719\n",
       "246    Topic3    586.153809      have    784.462646   0.9619  -5.6181\n",
       "28     Topic3    468.094360     penis    611.279785   0.9865  -5.8430\n",
       "880    Topic3    718.868713     human   1030.389282   0.8933  -5.4140\n",
       "45     Topic3   1046.491821      year   1682.157227   0.7787  -5.0385\n",
       "75     Topic3    311.110565  language    379.003845   1.0560  -6.2515\n",
       "39     Topic3    671.738525  European    992.642456   0.8628  -5.4818\n",
       "100    Topic3   4829.089355    people  12672.672852   0.2886  -3.5093\n",
       "23     Topic3   1167.195801      know   2127.397217   0.6531  -4.9293\n",
       "109    Topic3    675.570679       use   1028.673584   0.8329  -5.4761\n",
       "316    Topic3    658.325806    person    995.668457   0.8396  -5.5020\n",
       "179    Topic3   1539.472168      girl   3484.144043   0.4366  -4.6525\n",
       "116    Topic3    826.053345      time   1452.370605   0.6891  -5.2750\n",
       "182    Topic3   1025.589600  question   2079.690430   0.5464  -5.0587\n",
       "138    Topic3   1295.308472     Quora   3377.007324   0.2951  -4.8252\n",
       "173    Topic3    607.608948       big    966.291809   0.7894  -5.5821\n",
       "253    Topic3   1657.387207      like   5948.581543  -0.0246  -4.5787\n",
       "27     Topic3   1138.718384      want   3020.399170   0.2779  -4.9540\n",
       "197    Topic3    840.104126      feel   1864.588623   0.4561  -5.2581\n",
       "300    Topic3    722.361633       ask   1377.118896   0.6081  -5.4091\n",
       "233    Topic3   1067.855103     think   4375.897949  -0.1571  -5.0183\n",
       "168    Topic3    736.926941   Chinese   2088.304199   0.2117  -5.3892\n",
       "285    Topic3    825.978577       man   5364.120605  -0.6176  -5.2751\n",
       "751    Topic3    607.697998     thing   1100.031128   0.6599  -5.5820\n",
       "92     Topic3    700.814392     Trump   6233.372070  -0.9321  -5.4394\n",
       "163    Topic3    651.389404    Indian   5601.988281  -0.8984  -5.5126\n",
       "\n",
       "[305 rows x 6 columns], token_table=      Topic      Freq      Term\n",
       "term                           \n",
       "572       1  0.147045   African\n",
       "572       2  0.682630   African\n",
       "572       3  0.170658   African\n",
       "2493      1  0.983980      Alex\n",
       "890       1  0.927862     Allah\n",
       "890       2  0.049354     Allah\n",
       "890       3  0.029613     Allah\n",
       "209       1  0.353817   America\n",
       "209       2  0.572266   America\n",
       "209       3  0.073785   America\n",
       "34        1  0.259321  American\n",
       "34        2  0.653549  American\n",
       "34        3  0.087070  American\n",
       "3430      3  0.960347      Amit\n",
       "715       1  0.764832     Asian\n",
       "715       2  0.144582     Asian\n",
       "715       3  0.090685     Asian\n",
       "2195      3  0.986311         B\n",
       "1777      1  0.009099       BJP\n",
       "1777      2  0.036395       BJP\n",
       "1777      3  0.953552       BJP\n",
       "2882      3  0.959951    Bihari\n",
       "1605      1  0.025972      Bill\n",
       "1605      2  0.960962      Bill\n",
       "1605      3  0.015583      Bill\n",
       "3124      1  0.959384      Blue\n",
       "3124      2  0.026650      Blue\n",
       "38        1  0.731475     China\n",
       "38        2  0.071549     China\n",
       "38        3  0.197141     China\n",
       "...     ...       ...       ...\n",
       "27        3  0.377102      want\n",
       "1246      1  0.072593     watch\n",
       "1246      2  0.047465     watch\n",
       "1246      3  0.879492     watch\n",
       "2236      1  0.013004     weird\n",
       "2236      2  0.006502     weird\n",
       "2236      3  0.975263     weird\n",
       "282       1  0.610873      well\n",
       "282       2  0.250144      well\n",
       "282       3  0.138969      well\n",
       "364       1  0.189338     white\n",
       "364       2  0.659426     white\n",
       "364       3  0.151090     white\n",
       "3464      1  0.972811     witch\n",
       "3464      2  0.019853     witch\n",
       "37        1  0.610606     woman\n",
       "37        2  0.373644     woman\n",
       "37        3  0.015682     woman\n",
       "724       1  0.084322      word\n",
       "724       2  0.054907      word\n",
       "724       3  0.860866      word\n",
       "4         1  0.568092     world\n",
       "4         2  0.264904     world\n",
       "4         3  0.166775     world\n",
       "689       1  0.052119     write\n",
       "689       2  0.075573     write\n",
       "689       3  0.872998     write\n",
       "45        1  0.210444      year\n",
       "45        2  0.167642      year\n",
       "45        3  0.621821      year\n",
       "\n",
       "[623 rows x 3 columns], R=30, lambda_step=0.01, plot_opts={'xlab': 'PC1', 'ylab': 'PC2'}, topic_order=[1, 3, 2])"
      ]
     },
     "execution_count": 32,
     "metadata": {},
     "output_type": "execute_result"
    }
   ],
   "source": [
    "troll_lda"
   ]
  },
  {
   "cell_type": "code",
   "execution_count": 33,
   "metadata": {},
   "outputs": [],
   "source": [
    "pyLDAvis.save_html(troll_lda, 'lda_troll.html')"
   ]
  },
  {
   "cell_type": "code",
   "execution_count": 12,
   "metadata": {},
   "outputs": [],
   "source": [
    "#I only did it for the gram \n",
    "bigram = gensim.models.Phrases(df.lemma)"
   ]
  },
  {
   "cell_type": "code",
   "execution_count": 13,
   "metadata": {},
   "outputs": [
    {
     "name": "stderr",
     "output_type": "stream",
     "text": [
      "100%|██████████| 1306122/1306122 [00:59<00:00, 22034.38it/s]\n"
     ]
    }
   ],
   "source": [
    "df['bi_lemma'] = df.lemma.progress_apply(lambda x: bigram[x])"
   ]
  },
  {
   "cell_type": "code",
   "execution_count": 14,
   "metadata": {},
   "outputs": [
    {
     "name": "stderr",
     "output_type": "stream",
     "text": [
      "100%|██████████| 1306122/1306122 [00:58<00:00, 22268.64it/s]\n"
     ]
    }
   ],
   "source": [
    "trigram = gensim.models.Phrases(df.bi_lemma)\n",
    "df['tri_lemma'] = df.bi_lemma.progress_apply(lambda x: trigram[x])"
   ]
  },
  {
   "cell_type": "code",
   "execution_count": 16,
   "metadata": {},
   "outputs": [
    {
     "name": "stderr",
     "output_type": "stream",
     "text": [
      "100%|██████████| 1306122/1306122 [00:02<00:00, 556826.37it/s]\n"
     ]
    }
   ],
   "source": [
    "df['tri_join'] = df.tri_lemma.progress_apply(lambda x: (' ').join(x))"
   ]
  },
  {
   "cell_type": "code",
   "execution_count": 18,
   "metadata": {},
   "outputs": [],
   "source": [
    "docs_dict = Dictionary(df.tri_lemma)\n",
    "docs_dict.filter_extremes(no_below=20, no_above=0.2)\n",
    "docs_dict.compactify()"
   ]
  },
  {
   "cell_type": "code",
   "execution_count": 19,
   "metadata": {},
   "outputs": [],
   "source": [
    "docs_corpus = [docs_dict.doc2bow(doc) for doc in df.tri_lemma]\n",
    "model_tfidf = TfidfModel(docs_corpus, id2word=docs_dict)\n",
    "docs_tfidf  = model_tfidf[docs_corpus]"
   ]
  },
  {
   "cell_type": "code",
   "execution_count": 29,
   "metadata": {},
   "outputs": [
    {
     "data": {
      "text/plain": [
       "[(9, 2), (10, 1), (11, 1), (12, 1), (13, 2)]"
      ]
     },
     "execution_count": 29,
     "metadata": {},
     "output_type": "execute_result"
    }
   ],
   "source": [
    "docs_corpus[2]"
   ]
  },
  {
   "cell_type": "code",
   "execution_count": 30,
   "metadata": {},
   "outputs": [
    {
     "data": {
      "text/plain": [
       "[(9, 0.4892913548188031),\n",
       " (10, 0.3906631664627054),\n",
       " (11, 0.27532949502709814),\n",
       " (12, 0.17698352758170321),\n",
       " (13, 0.707705278065504)]"
      ]
     },
     "execution_count": 30,
     "metadata": {},
     "output_type": "execute_result"
    }
   ],
   "source": [
    "model_tfidf[docs_corpus[2]]"
   ]
  },
  {
   "cell_type": "code",
   "execution_count": 25,
   "metadata": {},
   "outputs": [
    {
     "data": {
      "text/plain": [
       "['Quebec', 'nationalist', 'province', 'nation']"
      ]
     },
     "execution_count": 25,
     "metadata": {},
     "output_type": "execute_result"
    }
   ],
   "source": [
    "df.tri_lemma[0]"
   ]
  },
  {
   "cell_type": "code",
   "execution_count": 26,
   "metadata": {},
   "outputs": [
    {
     "data": {
      "text/plain": [
       "'Quebec'"
      ]
     },
     "execution_count": 26,
     "metadata": {},
     "output_type": "execute_result"
    }
   ],
   "source": [
    "docs_dict[0]"
   ]
  },
  {
   "cell_type": "code",
   "execution_count": 15,
   "metadata": {},
   "outputs": [],
   "source": [
    "from sklearn.feature_extraction.text import TfidfVectorizer"
   ]
  },
  {
   "cell_type": "code",
   "execution_count": 16,
   "metadata": {},
   "outputs": [
    {
     "name": "stderr",
     "output_type": "stream",
     "text": [
      "100%|██████████| 1306122/1306122 [00:02<00:00, 528362.86it/s]\n"
     ]
    }
   ],
   "source": [
    "df['tri_join'] = df.tri_lemma.progress_apply(lambda x: (' ').join(x))"
   ]
  },
  {
   "cell_type": "code",
   "execution_count": null,
   "metadata": {},
   "outputs": [],
   "source": []
  },
  {
   "cell_type": "code",
   "execution_count": null,
   "metadata": {},
   "outputs": [],
   "source": [
    "# df_vectors = pd.DataFrame()\n",
    "# df_vectors['arrays']= df.tri_lemma.progress_apply(lambda x: sum(nlp.tokenizer(i).vector for i in x)) "
   ]
  },
  {
   "cell_type": "code",
   "execution_count": null,
   "metadata": {},
   "outputs": [],
   "source": [
    "# df_vectors.to_pickle('vectors.pkl')"
   ]
  },
  {
   "cell_type": "code",
   "execution_count": 47,
   "metadata": {},
   "outputs": [],
   "source": [
    "from sklearn.model_selection import train_test_split\n",
    "\n",
    "X = df.tri_join\n",
    "y = df.target\n",
    "\n",
    "X_train, X_test, y_train, y_test = train_test_split(X,y)"
   ]
  },
  {
   "cell_type": "code",
   "execution_count": 50,
   "metadata": {},
   "outputs": [],
   "source": [
    "from sklearn.feature_extraction.text import CountVectorizer\n",
    "\n",
    "vectorizer = CountVectorizer()\n",
    "X = vectorizer.fit_transform(df.tri_join)"
   ]
  },
  {
   "cell_type": "code",
   "execution_count": 51,
   "metadata": {},
   "outputs": [],
   "source": [
    "vectors_df = pd.DataFrame(X)"
   ]
  },
  {
   "cell_type": "code",
   "execution_count": 49,
   "metadata": {},
   "outputs": [
    {
     "data": {
      "text/plain": [
       "<bound method NDFrame.head of                                                   tri_join\n",
       "0                       Quebec nationalist province nation\n",
       "1                    adopt dog encourage people adopt shop\n",
       "2        velocity affect time velocity affect space geo...\n",
       "3                   Otto_von Guericke Magdeburg hemisphere\n",
       "4        convert montra helicon D mountain_bike change ...\n",
       "5        Gaza slowly Auschwitz Dachau Treblinka Palesti...\n",
       "6        Quora automatically ban conservative opinion r...\n",
       "7                            crazy wash wipe grocery Germs\n",
       "8          thing dress moderately different dress_modestly\n",
       "9        phase ignorant people love completely disregar...\n",
       "10                                                feminism\n",
       "11                                    Calgary Flames found\n",
       "12              dumb possibly true explanation Trump_elect\n",
       "13            use external_hard_disk OS datum datum affect\n",
       "14       live home boyfriend love boyfriend home progre...\n",
       "15                         know Bram Fischer Rivonia Trial\n",
       "16               difficult find good instructor class near\n",
       "17                                        lick skin corpse\n",
       "18       think Amazon adopt house approach manufacture ...\n",
       "19                            barony exist county palatine\n",
       "20                                       know girl sex sex\n",
       "21          fast learner professional_career personal life\n",
       "22                  United_States large dictatorship world\n",
       "23       strange phenomenon know witness generate area ...\n",
       "24                               leave friend find new one\n",
       "25                      Amazon_Alexa trigger event browser\n",
       "26                            democracy go fledge war stop\n",
       "27                                              CBSE month\n",
       "28                       know visit Mcleodganj Triund trek\n",
       "29       modern military_submarine reduce noise achieve...\n",
       "...                                                    ...\n",
       "1306092  hardly talk interest read history feel bad esp...\n",
       "1306093                           intimate_relation cousin\n",
       "1306094  singer lyric voice_head religious_people hear ...\n",
       "1306095               ginger plant naturally contain sugar\n",
       "1306096  technological_advance medicine harm good humanity\n",
       "1306097          pass class math mark board_CBSE good mark\n",
       "1306098       think physical_trait bear affect personality\n",
       "1306099                             pakis smell curry shit\n",
       "1306100                  Quora good downvoting answer vote\n",
       "1306101                             Wahabis Muslim puritan\n",
       "1306102  step live normal life suffer_social_anxiety un...\n",
       "1306103  Trump right USA benevolent neighbor Mexico Ame...\n",
       "1306104                     late career creative advertise\n",
       "1306105  difference filteration work live filteration w...\n",
       "1306106  universe pop existence stop pop existence someday\n",
       "1306107  share service technology team measure value de...\n",
       "1306108                               DSATM civil_engineer\n",
       "1306109  know problem depend solely boundary geometry s...\n",
       "1306110                        comic idea Tube video shoot\n",
       "1306111  Bitcoin sell pay_capital_gain tax quit work or...\n",
       "1306112                                     ashamed Indian\n",
       "1306113                    method determine fossil age STD\n",
       "1306114                                        story today\n",
       "1306115  consume gm protein daily vegetarian_non_vegeta...\n",
       "1306116  good career_option msc_chemistry student quali...\n",
       "1306117  technical_skill need computer_science undergrad c\n",
       "1306118  MS_ECE good job_prospect USA like India job pr...\n",
       "1306119                              foam insulation toxic\n",
       "1306120  start research_project base biochemistry UG level\n",
       "1306121                          win_battle Wolverine Puma\n",
       "\n",
       "[1306122 rows x 1 columns]>"
      ]
     },
     "execution_count": 49,
     "metadata": {},
     "output_type": "execute_result"
    }
   ],
   "source": [
    "vectors_df.head\n",
    "\\"
   ]
  },
  {
   "cell_type": "code",
   "execution_count": 36,
   "metadata": {},
   "outputs": [],
   "source": [
    "dense = tf_idf_data_train.toarray()"
   ]
  },
  {
   "cell_type": "code",
   "execution_count": 37,
   "metadata": {},
   "outputs": [
    {
     "data": {
      "text/plain": [
       "(979591, 176854)"
      ]
     },
     "execution_count": 37,
     "metadata": {},
     "output_type": "execute_result"
    }
   ],
   "source": [
    "dense.shape"
   ]
  },
  {
   "cell_type": "code",
   "execution_count": null,
   "metadata": {},
   "outputs": [],
   "source": []
  },
  {
   "cell_type": "code",
   "execution_count": 39,
   "metadata": {},
   "outputs": [],
   "source": [
    "tfidf = pd.DataFrame(dense)"
   ]
  },
  {
   "cell_type": "code",
   "execution_count": 40,
   "metadata": {},
   "outputs": [
    {
     "data": {
      "text/plain": [
       "(979591, 176854)"
      ]
     },
     "execution_count": 40,
     "metadata": {},
     "output_type": "execute_result"
    }
   ],
   "source": [
    "tfidf.shape"
   ]
  },
  {
   "cell_type": "code",
   "execution_count": 41,
   "metadata": {},
   "outputs": [],
   "source": [
    "tfidf.columns = vectorizer_test.get_feature_names()"
   ]
  },
  {
   "cell_type": "code",
   "execution_count": 42,
   "metadata": {},
   "outputs": [
    {
     "data": {
      "text/plain": [
       "(979591, 176854)"
      ]
     },
     "execution_count": 42,
     "metadata": {},
     "output_type": "execute_result"
    }
   ],
   "source": [
    "tf_idf_data_train.shape"
   ]
  },
  {
   "cell_type": "code",
   "execution_count": null,
   "metadata": {},
   "outputs": [],
   "source": [
    "tf"
   ]
  },
  {
   "cell_type": "code",
   "execution_count": 20,
   "metadata": {},
   "outputs": [],
   "source": [
    "from sklearn.ensemble import RandomForestClassifier\n",
    "from sklearn.naive_bayes import MultinomialNB\n",
    "\n",
    "nb_classifier = MultinomialNB()\n",
    "# rf_classifier = RandomForestClassifier(n_estimators=500, max_depth= 12, criterion='entropy')"
   ]
  },
  {
   "cell_type": "code",
   "execution_count": 21,
   "metadata": {},
   "outputs": [],
   "source": [
    "nb_classifier.fit(tf_idf_data_train, y_train)\n",
    "nb_train_preds = nb_classifier.predict(tf_idf_data_train)\n",
    "nb_test_preds = nb_classifier.predict(tf_idf_data_test)"
   ]
  },
  {
   "cell_type": "code",
   "execution_count": null,
   "metadata": {},
   "outputs": [],
   "source": [
    "from sklearn.metrics import accuracy_score, classification_report, confusion_matrix"
   ]
  },
  {
   "cell_type": "code",
   "execution_count": 23,
   "metadata": {},
   "outputs": [
    {
     "name": "stdout",
     "output_type": "stream",
     "text": [
      "Multinomial Naive Bois\n",
      "Training Accuracy: 0.9428 \t\t Testing Accuracy: 0.0\n",
      "\n",
      "----------------------------------------------------------------------\n",
      "\n"
     ]
    }
   ],
   "source": [
    "nb_train_score = accuracy_score(y_train, nb_train_preds)\n",
    "nb_test_score = accuracy_score(X_test, nb_test_preds)\n",
    "\n",
    "\n",
    "print(\"Multinomial Naive Bois\")\n",
    "print(\"Training Accuracy: {:.4} \\t\\t Testing Accuracy: {:.4}\".format(nb_train_score, nb_test_score))\n",
    "print(\"\")\n",
    "print('-'*70)\n",
    "print(\"\")\n"
   ]
  },
  {
   "cell_type": "code",
   "execution_count": 39,
   "metadata": {},
   "outputs": [
    {
     "name": "stdout",
     "output_type": "stream",
     "text": [
      "              precision    recall  f1-score   support\n",
      "\n",
      "           0       0.94      1.00      0.97    306458\n",
      "           1       0.79      0.06      0.12     20073\n",
      "\n",
      "   micro avg       0.94      0.94      0.94    326531\n",
      "   macro avg       0.87      0.53      0.54    326531\n",
      "weighted avg       0.93      0.94      0.92    326531\n",
      "\n"
     ]
    }
   ],
   "source": [
    "print(classification_report(y_test, nb_test_preds))"
   ]
  },
  {
   "cell_type": "code",
   "execution_count": 40,
   "metadata": {},
   "outputs": [
    {
     "data": {
      "text/plain": [
       "array([[306121,    337],\n",
       "       [ 18787,   1286]])"
      ]
     },
     "execution_count": 40,
     "metadata": {},
     "output_type": "execute_result"
    }
   ],
   "source": [
    "confusion_matrix(y_test, nb_test_preds)"
   ]
  },
  {
   "cell_type": "code",
   "execution_count": 23,
   "metadata": {},
   "outputs": [],
   "source": [
    "rf_classifier.fit(tf_idf_data_train, y_train)\n",
    "rf_train_preds = rf_classifier.predict(tf_idf_data_train)\n",
    "rf_test_preds = rf_classifier.predict(tf_idf_data_test)"
   ]
  },
  {
   "cell_type": "code",
   "execution_count": 24,
   "metadata": {},
   "outputs": [
    {
     "name": "stdout",
     "output_type": "stream",
     "text": [
      "[[306458      0]\n",
      " [ 20073      0]]\n"
     ]
    }
   ],
   "source": [
    "print(confusion_matrix(y_test, rf_test_preds))"
   ]
  },
  {
   "cell_type": "code",
   "execution_count": 39,
   "metadata": {},
   "outputs": [],
   "source": [
    "from matplotlib import pyplot as plt\n",
    "%matplotlib inline\n",
    "import seaborn as sns\n",
    "sns.set()"
   ]
  },
  {
   "cell_type": "code",
   "execution_count": 43,
   "metadata": {},
   "outputs": [],
   "source": [
    "def plot_confusion_matrix(y_test,model_pred):\n",
    "    conf_mat = confusion_matrix(y_true=y_test, y_pred=model_pred)\n",
    "    #print('Confusion matrix:\\n', conf_mat)\n",
    "\n",
    "    ax= plt.subplot()\n",
    "    sns.heatmap(conf_mat, ax = ax, fmt = 'g', cmap = 'Greens'); \n",
    "\n",
    "    # labels, title and ticks\n",
    "    ax.set_xlabel('Predicted');ax.set_ylabel('Expected'); \n",
    "    ax.set_title('Confusion Matrix'); \n",
    "    ax.xaxis.set_ticklabels(['Sincere', 'TROLL AF']); ax.yaxis.set_ticklabels(['Sincere', 'TROLL AF']);\n",
    "    print(classification_report(y_test,model_pred))\n",
    "\n",
    "def plot_ROC_curve(x_test,y_test,model):\n",
    "    from sklearn.metrics import roc_curve\n",
    "    from sklearn.metrics import roc_auc_score\n",
    "    probs = model.predict_proba(x_test)\n",
    "    probs = probs[:,1]\n",
    "    fpr, tpr, thresholds = roc_curve(y_test,probs, pos_label= 1)\n",
    "    auc = roc_auc_score(y_test, probs)\n",
    "    plt.figure(figsize=(12,8))\n",
    "    plt.title(\"ROC\",fontsize = 14)\n",
    "    plt.xlabel(\"FPR\", fontsize = 12)\n",
    "    plt.ylabel(\"TPR\", fontsize = 12)\n",
    "    plt.plot([0,1],[0,1], linestyle='--')\n",
    "    plt.plot(fpr, tpr, marker = '.', linewidth = 4)\n",
    "    plt.legend([\"AUC=%.3f\"%auc],loc = 'lower right',prop={'size': 30})\n",
    "    plt.show()"
   ]
  },
  {
   "cell_type": "code",
   "execution_count": 44,
   "metadata": {},
   "outputs": [
    {
     "name": "stdout",
     "output_type": "stream",
     "text": [
      "              precision    recall  f1-score   support\n",
      "\n",
      "           0       0.94      1.00      0.97    306458\n",
      "           1       0.79      0.06      0.12     20073\n",
      "\n",
      "   micro avg       0.94      0.94      0.94    326531\n",
      "   macro avg       0.87      0.53      0.54    326531\n",
      "weighted avg       0.93      0.94      0.92    326531\n",
      "\n"
     ]
    },
    {
     "data": {
      "image/png": "[encoded data removed]",
      "text/plain": [
       "<Figure size 432x288 with 2 Axes>"
      ]
     },
     "metadata": {},
     "output_type": "display_data"
    }
   ],
   "source": [
    "plot_confusion_matrix(y_test, nb_test_preds)"
   ]
  },
  {
   "cell_type": "code",
   "execution_count": 36,
   "metadata": {},
   "outputs": [
    {
     "data": {
      "image/png": "[encoded data removed]",
      "text/plain": [
       "<Figure size 864x576 with 1 Axes>"
      ]
     },
     "metadata": {
      "needs_background": "light"
     },
     "output_type": "display_data"
    }
   ],
   "source": [
    "plot_ROC_curve(tf_idf_data_test, y_test, nb_classifier)"
   ]
  },
  {
   "cell_type": "code",
   "execution_count": 25,
   "metadata": {},
   "outputs": [],
   "source": [
    "import xgboost\n",
    "from tpot import TPOTClassifier\n",
    "\n",
    "tpot = TPOTClassifier(generations=10, population_size=5,verbosity=2,config_dict='TPOT sparse')\n"
   ]
  },
  {
   "cell_type": "code",
   "execution_count": null,
   "metadata": {},
   "outputs": [
    {
     "data": {
      "application/vnd.jupyter.widget-view+json": {
       "model_id": "5a058176030c497487c11b880a0e79d6",
       "version_major": 2,
       "version_minor": 0
      },
      "text/plain": [
       "HBox(children=(IntProgress(value=0, description='Optimization Progress', max=55, style=ProgressStyle(descripti…"
      ]
     },
     "metadata": {},
     "output_type": "display_data"
    }
   ],
   "source": [
    "tpot.fit(tf_idf_data_train, y_train)"
   ]
  },
  {
   "cell_type": "code",
   "execution_count": 45,
   "metadata": {},
   "outputs": [
    {
     "name": "stderr",
     "output_type": "stream",
     "text": [
      "100%|██████████| 1306122/1306122 [39:59<00:00, 544.34it/s]  \n"
     ]
    }
   ],
   "source": [
    "df_vectors = pd.DataFrame()\n",
    "df_vectors['arrays']= df.tri_lemma.progress_apply(lambda x: [nlp.tokenizer(i).vector for i in x]) "
   ]
  },
  {
   "cell_type": "code",
   "execution_count": 49,
   "metadata": {},
   "outputs": [],
   "source": [
    "X = df.tri_join\n",
    "y = df.target\n",
    "\n"
   ]
  },
  {
   "cell_type": "code",
   "execution_count": 50,
   "metadata": {},
   "outputs": [],
   "source": [
    "from sklearn.feature_extraction.text import TfidfVectorizer\n",
    "\n",
    "vectorizer = TfidfVectorizer()\n",
    "X = vectorizer.fit_transform(X)\n",
    "#weighted df = np.multiply()"
   ]
  },
  {
   "cell_type": "code",
   "execution_count": 52,
   "metadata": {},
   "outputs": [
    {
     "data": {
      "text/plain": [
       "(1306122, 200931)"
      ]
     },
     "execution_count": 52,
     "metadata": {},
     "output_type": "execute_result"
    }
   ],
   "source": [
    "X.shape"
   ]
  },
  {
   "cell_type": "code",
   "execution_count": 51,
   "metadata": {},
   "outputs": [
    {
     "data": {
      "text/plain": [
       "<1306122x200931 sparse matrix of type '<class 'numpy.float64'>'\n",
       "\twith 6347975 stored elements in Compressed Sparse Row format>"
      ]
     },
     "execution_count": 51,
     "metadata": {},
     "output_type": "execute_result"
    }
   ],
   "source": [
    "np.multiply(X,)"
   ]
  },
  {
   "cell_type": "code",
   "execution_count": null,
   "metadata": {},
   "outputs": [],
   "source": [
    "nb_classifier = MultinomialNB()\n",
    "nb_classifier.fit(tf_idf_data_train, y_train)\n",
    "nb_train_preds = nb_classifier.predict(tf_idf_data_train)\n",
    "nb_test_preds = nb_classifier.predict(tf_idf_data_test)"
   ]
  },
  {
   "cell_type": "code",
   "execution_count": null,
   "metadata": {},
   "outputs": [],
   "source": [
    "plot_confusion_matrix(y_test, nb_test_preds)"
   ]
  },
  {
   "cell_type": "code",
   "execution_count": null,
   "metadata": {},
   "outputs": [],
   "source": []
  }
 ],
 "metadata": {
  "kernelspec": {
   "display_name": "Python 3",
   "language": "python",
   "name": "python3"
  },
  "language_info": {
   "codemirror_mode": {
    "name": "ipython",
    "version": 3
   },
   "file_extension": ".py",
   "mimetype": "text/x-python",
   "name": "python",
   "nbconvert_exporter": "python",
   "pygments_lexer": "ipython3",
   "version": "3.7.3"
  }
 },
 "nbformat": 4,
 "nbformat_minor": 4
}
